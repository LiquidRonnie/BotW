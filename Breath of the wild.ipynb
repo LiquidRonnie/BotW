{
 "cells": [
  {
   "cell_type": "markdown",
   "metadata": {},
   "source": [
    "# Breath of the Wild"
   ]
  },
  {
   "cell_type": "code",
   "execution_count": 14,
   "metadata": {},
   "outputs": [],
   "source": [
    "# call in dependencies\n",
    "import requests\n",
    "import json\n",
    "import pandas as pd\n",
    "import os\n",
    "from pyrule_compendium import compendium\n",
    "from pprint import pprint\n",
    "import csv"
   ]
  },
  {
   "cell_type": "code",
   "execution_count": 15,
   "metadata": {},
   "outputs": [],
   "source": [
    "comp = compendium()\n",
    "\n",
    "#pprint(comp.get_all()[\"equipment\"][0]) # get all entries\n",
    "# print(comp.get_entry(\"silver lynel\")) # get a specific entry with it's name\n",
    "# pprint(comp.get_entry(380)) #get a specific entry with it's ID\n",
    "# pprint(comp.get_category(\"equipment\")) # get all entries in a category\n",
    "# comp.download_entry_image(\"silver lynel\", \"dream_pet.png\") # download entry image"
   ]
  },
  {
   "cell_type": "code",
   "execution_count": 16,
   "metadata": {},
   "outputs": [],
   "source": [
    "# create empty list to store item\n",
    "equip_list = []\n",
    "equip = {}\n",
    "materials = []\n",
    "monsters = []\n",
    "foods = []\n",
    "drops = []"
   ]
  },
  {
   "cell_type": "code",
   "execution_count": 17,
   "metadata": {},
   "outputs": [],
   "source": [
    "# pull category data and assign to a variable, to be used for appending to lists.\n",
    "equipment_json = comp.get_all()[\"equipment\"]\n",
    "materials_json = comp.get_all()[\"materials\"]\n",
    "monsters_json = comp.get_all()[\"monsters\"]\n",
    "creatures_json = comp.get_all()[\"creatures\"][\"food\"]"
   ]
  },
  {
   "cell_type": "markdown",
   "metadata": {},
   "source": [
    "# Get equipment list"
   ]
  },
  {
   "cell_type": "code",
   "execution_count": 18,
   "metadata": {},
   "outputs": [],
   "source": [
    "# create loop to get equipment data store to list.\n",
    "for i in equipment_json:\n",
    "    # create a dictionary for equipment to create DataFrame\n",
    "    equipment_dict = {\n",
    "        \"name\": i['name'],\n",
    "        \"attack\": i['attack'],\n",
    "        \"defense\": i['defense']\n",
    "    }\n",
    "    # add dictionary to list.\n",
    "    equip_list.append(equipment_dict)"
   ]
  },
  {
   "cell_type": "code",
   "execution_count": 19,
   "metadata": {},
   "outputs": [],
   "source": [
    "# Create DataFrame and save to .csv file\n",
    "equipment_df = pd.DataFrame(equip_list).sort_values(by=\"name\")\n",
    "equipment_df.to_csv(\"BotW_equip_stats.csv\", index=False)"
   ]
  },
  {
   "cell_type": "markdown",
   "metadata": {},
   "source": [
    "# Get materials list"
   ]
  },
  {
   "cell_type": "code",
   "execution_count": 20,
   "metadata": {},
   "outputs": [],
   "source": [
    "# get materials and add to list\n",
    "for i in materials_json:\n",
    "    # create a dictionary for materials to create DataFrame)\n",
    "    material_dict = {\n",
    "        \"name\": i['name'],\n",
    "        \"hearts_recovered\": i['hearts_recovered'],\n",
    "        \"cooking_effect\": i['cooking_effect'],\n",
    "    }\n",
    "     # add dictionary to list.\n",
    "    materials.append(material_dict)"
   ]
  },
  {
   "cell_type": "code",
   "execution_count": 21,
   "metadata": {},
   "outputs": [],
   "source": [
    "# Create DataFrame from dictionary\n",
    "materials_df = pd.DataFrame(materials)"
   ]
  },
  {
   "cell_type": "code",
   "execution_count": 22,
   "metadata": {},
   "outputs": [],
   "source": [
    "# add a 'none' to the cooking_effect that show a blank\n",
    "materials_df[\"cooking_effect\"] = ['none' if x == '' else x for x in materials_df['cooking_effect']]"
   ]
  },
  {
   "cell_type": "code",
   "execution_count": 23,
   "metadata": {},
   "outputs": [],
   "source": [
    "# Preivew DataFrame\n",
    "#materials_df"
   ]
  },
  {
   "cell_type": "code",
   "execution_count": 24,
   "metadata": {},
   "outputs": [],
   "source": [
    "# save to .csv file\n",
    "materials_df.to_csv(\"BotW_material_stats.csv\", index=False)"
   ]
  },
  {
   "cell_type": "markdown",
   "metadata": {},
   "source": [
    "# Get foods list"
   ]
  },
  {
   "cell_type": "code",
   "execution_count": 25,
   "metadata": {},
   "outputs": [],
   "source": [
    "# get foods and add to list\n",
    "for i in creatures_json:\n",
    "    # create a dictionary for foods to create DataFrame)\n",
    "    food_dict = {\n",
    "        \"name\": i['name'],\n",
    "        \"hearts_recovered\": i['hearts_recovered'],\n",
    "        \"cooking_effect\": i['cooking_effect'],\n",
    "    }\n",
    "    # add dictionary to list.\n",
    "    foods.append(food_dict)"
   ]
  },
  {
   "cell_type": "code",
   "execution_count": 26,
   "metadata": {},
   "outputs": [],
   "source": [
    "# Create DataFrame\n",
    "# add a 'none' to the foods that show a blank\n",
    "foods_df = pd.DataFrame(foods).sort_values(by=\"name\")\n",
    "foods_df[\"cooking_effect\"] = ['none' if x == '' else x for x in foods_df['cooking_effect']]"
   ]
  },
  {
   "cell_type": "code",
   "execution_count": 27,
   "metadata": {},
   "outputs": [],
   "source": [
    "# save to .csv file\n",
    "foods_df.to_csv(\"BotW_food_stats.csv\", index=False)"
   ]
  },
  {
   "cell_type": "markdown",
   "metadata": {},
   "source": [
    "# Get monster list ID"
   ]
  },
  {
   "cell_type": "code",
   "execution_count": 28,
   "metadata": {},
   "outputs": [],
   "source": [
    "# get foods and add to list\n",
    "for i in monsters_json:\n",
    "    # create a dictionary for monsters to create DataFrame)\n",
    "    monster_dict = {\n",
    "        \"name\": i['name'],\n",
    "        \"id\": i['id'],\n",
    "    }\n",
    "    # add dictionary to list.\n",
    "    monsters.append(monster_dict)"
   ]
  },
  {
   "cell_type": "code",
   "execution_count": 74,
   "metadata": {},
   "outputs": [
    {
     "data": {
      "text/html": [
       "<div>\n",
       "<style scoped>\n",
       "    .dataframe tbody tr th:only-of-type {\n",
       "        vertical-align: middle;\n",
       "    }\n",
       "\n",
       "    .dataframe tbody tr th {\n",
       "        vertical-align: top;\n",
       "    }\n",
       "\n",
       "    .dataframe thead th {\n",
       "        text-align: right;\n",
       "    }\n",
       "</style>\n",
       "<table border=\"1\" class=\"dataframe\">\n",
       "  <thead>\n",
       "    <tr style=\"text-align: right;\">\n",
       "      <th></th>\n",
       "      <th>name</th>\n",
       "    </tr>\n",
       "    <tr>\n",
       "      <th>id</th>\n",
       "      <th></th>\n",
       "    </tr>\n",
       "  </thead>\n",
       "  <tbody>\n",
       "    <tr>\n",
       "      <th>105</th>\n",
       "      <td>black bokoblin</td>\n",
       "    </tr>\n",
       "    <tr>\n",
       "      <th>149</th>\n",
       "      <td>black hinox</td>\n",
       "    </tr>\n",
       "    <tr>\n",
       "      <th>115</th>\n",
       "      <td>black lizalfos</td>\n",
       "    </tr>\n",
       "    <tr>\n",
       "      <th>110</th>\n",
       "      <td>black moblin</td>\n",
       "    </tr>\n",
       "    <tr>\n",
       "      <th>101</th>\n",
       "      <td>blizzrobe</td>\n",
       "    </tr>\n",
       "    <tr>\n",
       "      <th>...</th>\n",
       "      <td>...</td>\n",
       "    </tr>\n",
       "    <tr>\n",
       "      <th>161</th>\n",
       "      <td>waterblight ganon</td>\n",
       "    </tr>\n",
       "    <tr>\n",
       "      <th>123</th>\n",
       "      <td>white-maned lynel</td>\n",
       "    </tr>\n",
       "    <tr>\n",
       "      <th>162</th>\n",
       "      <td>windblight ganon</td>\n",
       "    </tr>\n",
       "    <tr>\n",
       "      <th>135</th>\n",
       "      <td>yiga blademaster</td>\n",
       "    </tr>\n",
       "    <tr>\n",
       "      <th>134</th>\n",
       "      <td>yiga footsoldier</td>\n",
       "    </tr>\n",
       "  </tbody>\n",
       "</table>\n",
       "<p>81 rows × 1 columns</p>\n",
       "</div>"
      ],
      "text/plain": [
       "                  name\n",
       "id                    \n",
       "105     black bokoblin\n",
       "149        black hinox\n",
       "115     black lizalfos\n",
       "110       black moblin\n",
       "101          blizzrobe\n",
       "..                 ...\n",
       "161  waterblight ganon\n",
       "123  white-maned lynel\n",
       "162   windblight ganon\n",
       "135   yiga blademaster\n",
       "134   yiga footsoldier\n",
       "\n",
       "[81 rows x 1 columns]"
      ]
     },
     "execution_count": 74,
     "metadata": {},
     "output_type": "execute_result"
    }
   ],
   "source": [
    "# Create DataFrame and save to .csv file\n",
    "monsters_df = monsters_df = pd.DataFrame(monsters).sort_values(by=\"name\")\n",
    "monsters_df.to_csv(\"BotW_monster_list.csv\", index=False)\n",
    "monsters_df = monsters_df.set_index(\"id\")\n",
    "monsters_df"
   ]
  },
  {
   "cell_type": "markdown",
   "metadata": {},
   "source": [
    "# Union foods and materials"
   ]
  },
  {
   "cell_type": "code",
   "execution_count": 30,
   "metadata": {},
   "outputs": [],
   "source": [
    "# union materials df and foods df into a new DataFrame\n",
    "consumables_df = pd.concat([materials_df, foods_df]).reset_index(drop=True)"
   ]
  },
  {
   "cell_type": "code",
   "execution_count": 159,
   "metadata": {},
   "outputs": [],
   "source": [
    "consumables_df = consumables_df.sort_values(by=\"hearts_recovered\", ascending=False)"
   ]
  },
  {
   "cell_type": "code",
   "execution_count": 160,
   "metadata": {},
   "outputs": [],
   "source": [
    "# Save consumables to a csv file\n",
    "consumables_df.to_csv(\"BotW_consumables.csv\", index=False)"
   ]
  },
  {
   "cell_type": "markdown",
   "metadata": {},
   "source": [
    "# Get drops ID\n"
   ]
  },
  {
   "cell_type": "code",
   "execution_count": 73,
   "metadata": {},
   "outputs": [
    {
     "data": {
      "text/html": [
       "<div>\n",
       "<style scoped>\n",
       "    .dataframe tbody tr th:only-of-type {\n",
       "        vertical-align: middle;\n",
       "    }\n",
       "\n",
       "    .dataframe tbody tr th {\n",
       "        vertical-align: top;\n",
       "    }\n",
       "\n",
       "    .dataframe thead th {\n",
       "        text-align: right;\n",
       "    }\n",
       "</style>\n",
       "<table border=\"1\" class=\"dataframe\">\n",
       "  <thead>\n",
       "    <tr style=\"text-align: right;\">\n",
       "      <th></th>\n",
       "      <th>drops</th>\n",
       "    </tr>\n",
       "    <tr>\n",
       "      <th>id</th>\n",
       "      <th></th>\n",
       "    </tr>\n",
       "  </thead>\n",
       "  <tbody>\n",
       "    <tr>\n",
       "      <th>161</th>\n",
       "      <td>None</td>\n",
       "    </tr>\n",
       "    <tr>\n",
       "      <th>109</th>\n",
       "      <td>moblin horn</td>\n",
       "    </tr>\n",
       "    <tr>\n",
       "      <th>109</th>\n",
       "      <td>moblin fang</td>\n",
       "    </tr>\n",
       "    <tr>\n",
       "      <th>109</th>\n",
       "      <td>moblin guts</td>\n",
       "    </tr>\n",
       "    <tr>\n",
       "      <th>147</th>\n",
       "      <td>hinox toenail</td>\n",
       "    </tr>\n",
       "    <tr>\n",
       "      <th>...</th>\n",
       "      <td>...</td>\n",
       "    </tr>\n",
       "    <tr>\n",
       "      <th>129</th>\n",
       "      <td>ancient gear</td>\n",
       "    </tr>\n",
       "    <tr>\n",
       "      <th>129</th>\n",
       "      <td>ancient shaft</td>\n",
       "    </tr>\n",
       "    <tr>\n",
       "      <th>92</th>\n",
       "      <td>octorok tentacle</td>\n",
       "    </tr>\n",
       "    <tr>\n",
       "      <th>92</th>\n",
       "      <td>octo balloon</td>\n",
       "    </tr>\n",
       "    <tr>\n",
       "      <th>92</th>\n",
       "      <td>octorok eyeball</td>\n",
       "    </tr>\n",
       "  </tbody>\n",
       "</table>\n",
       "<p>259 rows × 1 columns</p>\n",
       "</div>"
      ],
      "text/plain": [
       "                drops\n",
       "id                   \n",
       "161              None\n",
       "109       moblin horn\n",
       "109       moblin fang\n",
       "109       moblin guts\n",
       "147     hinox toenail\n",
       "..                ...\n",
       "129      ancient gear\n",
       "129     ancient shaft\n",
       "92   octorok tentacle\n",
       "92       octo balloon\n",
       "92    octorok eyeball\n",
       "\n",
       "[259 rows x 1 columns]"
      ]
     },
     "execution_count": 73,
     "metadata": {},
     "output_type": "execute_result"
    }
   ],
   "source": [
    "# Iterate through json and check if the value that I represents is an empty list\n",
    "# If it is set the drops variable to None otherwise append the drop information and create a DF\n",
    "drops = []\n",
    "for i in monsters_json:\n",
    "    if i['drops'] == []:\n",
    "        i['drops'] = None\n",
    "    else:\n",
    "        drops_dict = {\n",
    "        \"drops\": i['drops'],\n",
    "        \"id\": i['id'],\n",
    "        }\n",
    "    drops.append(drops_dict)\n",
    "drops_df = pd.DataFrame(drops)\n",
    "# set the index of the dataframe to the id (will be handy when you split your entries next)\n",
    "drops_df.set_index(drops_df['id'],inplace=True)\n",
    "# split each item in  the df['drops'] and send it to a new row. Setting the index above allows us to \n",
    "# keep the index intact when we split them. \n",
    "drops_df = drops_df.explode('drops')\n",
    "# Filter the dataframe to keep only the column that we need\n",
    "drops_df[['drops']]"
   ]
  },
  {
   "cell_type": "code",
   "execution_count": 155,
   "metadata": {},
   "outputs": [],
   "source": [
    "drops_df.to_csv(\"BotW_drop.csv\")"
   ]
  },
  {
   "cell_type": "code",
   "execution_count": 109,
   "metadata": {},
   "outputs": [],
   "source": [
    "# create dataframe to hold drop counts\n",
    "drops_count_df = pd.DataFrame(drops_df.index.value_counts())\n",
    "# Renme id column to 'drop_counts'\n",
    "drops_count_df = drops_count_df.rename(columns={\"id\":\"drop_count\"})"
   ]
  },
  {
   "cell_type": "code",
   "execution_count": 142,
   "metadata": {},
   "outputs": [
    {
     "data": {
      "text/html": [
       "<div>\n",
       "<style scoped>\n",
       "    .dataframe tbody tr th:only-of-type {\n",
       "        vertical-align: middle;\n",
       "    }\n",
       "\n",
       "    .dataframe tbody tr th {\n",
       "        vertical-align: top;\n",
       "    }\n",
       "\n",
       "    .dataframe thead th {\n",
       "        text-align: right;\n",
       "    }\n",
       "</style>\n",
       "<table border=\"1\" class=\"dataframe\">\n",
       "  <thead>\n",
       "    <tr style=\"text-align: right;\">\n",
       "      <th></th>\n",
       "      <th>drop_count</th>\n",
       "    </tr>\n",
       "    <tr>\n",
       "      <th>id</th>\n",
       "      <th></th>\n",
       "    </tr>\n",
       "  </thead>\n",
       "  <tbody>\n",
       "    <tr>\n",
       "      <th>148</th>\n",
       "      <td>12</td>\n",
       "    </tr>\n",
       "    <tr>\n",
       "      <th>147</th>\n",
       "      <td>10</td>\n",
       "    </tr>\n",
       "    <tr>\n",
       "      <th>107</th>\n",
       "      <td>9</td>\n",
       "    </tr>\n",
       "    <tr>\n",
       "      <th>112</th>\n",
       "      <td>9</td>\n",
       "    </tr>\n",
       "    <tr>\n",
       "      <th>120</th>\n",
       "      <td>9</td>\n",
       "    </tr>\n",
       "    <tr>\n",
       "      <th>...</th>\n",
       "      <td>...</td>\n",
       "    </tr>\n",
       "    <tr>\n",
       "      <th>150</th>\n",
       "      <td>1</td>\n",
       "    </tr>\n",
       "    <tr>\n",
       "      <th>146</th>\n",
       "      <td>1</td>\n",
       "    </tr>\n",
       "    <tr>\n",
       "      <th>137</th>\n",
       "      <td>1</td>\n",
       "    </tr>\n",
       "    <tr>\n",
       "      <th>136</th>\n",
       "      <td>1</td>\n",
       "    </tr>\n",
       "    <tr>\n",
       "      <th>84</th>\n",
       "      <td>1</td>\n",
       "    </tr>\n",
       "  </tbody>\n",
       "</table>\n",
       "<p>81 rows × 1 columns</p>\n",
       "</div>"
      ],
      "text/plain": [
       "     drop_count\n",
       "id             \n",
       "148          12\n",
       "147          10\n",
       "107           9\n",
       "112           9\n",
       "120           9\n",
       "..          ...\n",
       "150           1\n",
       "146           1\n",
       "137           1\n",
       "136           1\n",
       "84            1\n",
       "\n",
       "[81 rows x 1 columns]"
      ]
     },
     "execution_count": 142,
     "metadata": {},
     "output_type": "execute_result"
    }
   ],
   "source": [
    "# rename index to 'id'\n",
    "drops_count_df.index.name = \"id\"\n",
    "drops_count_df"
   ]
  },
  {
   "cell_type": "code",
   "execution_count": 152,
   "metadata": {},
   "outputs": [],
   "source": [
    "# Merge drop_counts_df and mosnters_df to obtain total count of drops\n",
    "# for a monster\n",
    "calamity_df = pd.merge(monsters_df, drops_count_df, how=\"outer\", on=\"id\")\n",
    "calamity_df = calamity_df.sort_values(by=\"drop_count\", ascending=False)"
   ]
  },
  {
   "cell_type": "code",
   "execution_count": 154,
   "metadata": {},
   "outputs": [],
   "source": [
    "# Save new DataFrame to csv file\n",
    "calamity_df\n",
    "calamity_df.to_csv(\"BotW_drop_counts.csv\")"
   ]
  },
  {
   "cell_type": "code",
   "execution_count": null,
   "metadata": {},
   "outputs": [],
   "source": []
  },
  {
   "cell_type": "markdown",
   "metadata": {},
   "source": [
    "## Let's get into the game details\n",
    "## what is the purpose of this game?"
   ]
  },
  {
   "cell_type": "code",
   "execution_count": null,
   "metadata": {},
   "outputs": [],
   "source": [
    "\n"
   ]
  }
 ],
 "metadata": {
  "kernelspec": {
   "display_name": "Python 3",
   "language": "python",
   "name": "python3"
  },
  "language_info": {
   "codemirror_mode": {
    "name": "ipython",
    "version": 3
   },
   "file_extension": ".py",
   "mimetype": "text/x-python",
   "name": "python",
   "nbconvert_exporter": "python",
   "pygments_lexer": "ipython3",
   "version": "3.8.5"
  }
 },
 "nbformat": 4,
 "nbformat_minor": 4
}
