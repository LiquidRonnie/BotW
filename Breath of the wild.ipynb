{
 "cells": [
  {
   "cell_type": "markdown",
   "metadata": {},
   "source": [
    "# Breath of the Wild"
   ]
  },
  {
   "cell_type": "code",
   "execution_count": 9,
   "metadata": {},
   "outputs": [
    {
     "name": "stdout",
     "output_type": "stream",
     "text": [
      "Collecting pyrule-compendium\n",
      "  Downloading pyrule_compendium-2.4.0-py3-none-any.whl (9.3 kB)\n",
      "Requirement already satisfied: requests in c:\\users\\coron\\anaconda3\\lib\\site-packages (from pyrule-compendium) (2.24.0)\n",
      "Requirement already satisfied: certifi>=2017.4.17 in c:\\users\\coron\\anaconda3\\lib\\site-packages (from requests->pyrule-compendium) (2020.6.20)\n",
      "Requirement already satisfied: idna<3,>=2.5 in c:\\users\\coron\\anaconda3\\lib\\site-packages (from requests->pyrule-compendium) (2.10)\n",
      "Requirement already satisfied: chardet<4,>=3.0.2 in c:\\users\\coron\\anaconda3\\lib\\site-packages (from requests->pyrule-compendium) (3.0.4)\n",
      "Requirement already satisfied: urllib3!=1.25.0,!=1.25.1,<1.26,>=1.21.1 in c:\\users\\coron\\anaconda3\\lib\\site-packages (from requests->pyrule-compendium) (1.25.11)\n",
      "Installing collected packages: pyrule-compendium\n",
      "Successfully installed pyrule-compendium-2.4.0\n"
     ]
    }
   ],
   "source": [
    "!pip install pyrule-compendium\n"
   ]
  },
  {
   "cell_type": "code",
   "execution_count": 121,
   "metadata": {},
   "outputs": [],
   "source": [
    "# call in dependencies\n",
    "import requests\n",
    "import json\n",
    "import pandas as pd\n",
    "import os\n",
    "from pyrule_compendium import compendium\n",
    "from pprint import pprint\n",
    "import csv\n",
    "import matplotlib.pyplot as plt\n",
    "from decimal import Decimal"
   ]
  },
  {
   "cell_type": "code",
   "execution_count": 122,
   "metadata": {},
   "outputs": [],
   "source": [
    "comp = compendium()\n",
    "\n",
    "#pprint(comp.get_all()[\"equipment\"][0]) # get all entries\n",
    "# print(comp.get_entry(\"silver lynel\")) # get a specific entry with it's name\n",
    "# pprint(comp.get_entry(380)) #get a specific entry with it's ID\n",
    "# pprint(comp.get_category(\"equipment\")) # get all entries in a category\n",
    "# comp.download_entry_image(\"silver lynel\", \"dream_pet.png\") # download entry image"
   ]
  },
  {
   "cell_type": "code",
   "execution_count": 123,
   "metadata": {},
   "outputs": [],
   "source": [
    "# create empty list to store item\n",
    "equip_list = []\n",
    "equip = {}\n",
    "materials = []\n",
    "monsters = []\n",
    "foods = []\n",
    "drops = []"
   ]
  },
  {
   "cell_type": "code",
   "execution_count": 124,
   "metadata": {},
   "outputs": [],
   "source": [
    "# pull category data and assign to a variable, to be used for appending to lists.\n",
    "equipment_json = comp.get_all()[\"equipment\"]\n",
    "materials_json = comp.get_all()[\"materials\"]\n",
    "monsters_json = comp.get_all()[\"monsters\"]\n",
    "creatures_json = comp.get_all()[\"creatures\"][\"food\"]"
   ]
  },
  {
   "cell_type": "markdown",
   "metadata": {},
   "source": [
    "# Get equipment list"
   ]
  },
  {
   "cell_type": "code",
   "execution_count": 125,
   "metadata": {},
   "outputs": [],
   "source": [
    "# create loop to get equipment data store to list.\n",
    "for i in equipment_json:\n",
    "    # create a dictionary for equipment to create DataFrame\n",
    "    equipment_dict = {\n",
    "        \"name\": i['name'],\n",
    "        \"attack\": i['attack'],\n",
    "        \"defense\": i['defense']\n",
    "    }\n",
    "    # add dictionary to list.\n",
    "    equip_list.append(equipment_dict)"
   ]
  },
  {
   "cell_type": "code",
   "execution_count": 126,
   "metadata": {},
   "outputs": [],
   "source": [
    "# Create DataFrame and save to .csv file\n",
    "equipment_df = pd.DataFrame(equip_list).sort_values(by=\"name\")\n",
    "equipment_df.to_csv(\"BotW_equip_stats.csv\", index=False)"
   ]
  },
  {
   "cell_type": "markdown",
   "metadata": {},
   "source": [
    "# Get materials list"
   ]
  },
  {
   "cell_type": "code",
   "execution_count": 127,
   "metadata": {},
   "outputs": [],
   "source": [
    "# get materials and add to list\n",
    "for i in materials_json:\n",
    "    # create a dictionary for materials to create DataFrame)\n",
    "    material_dict = {\n",
    "        \"name\": i['name'],\n",
    "        \"hearts_recovered\": i['hearts_recovered'],\n",
    "        \"cooking_effect\": i['cooking_effect'],\n",
    "    }\n",
    "     # add dictionary to list.\n",
    "    materials.append(material_dict)"
   ]
  },
  {
   "cell_type": "code",
   "execution_count": 128,
   "metadata": {},
   "outputs": [],
   "source": [
    "# Create DataFrame from dictionary\n",
    "materials_df = pd.DataFrame(materials)"
   ]
  },
  {
   "cell_type": "code",
   "execution_count": 129,
   "metadata": {},
   "outputs": [],
   "source": [
    "# add a 'none' to the cooking_effect that show a blank\n",
    "materials_df[\"cooking_effect\"] = ['none' if x == '' else x for x in materials_df['cooking_effect']]"
   ]
  },
  {
   "cell_type": "code",
   "execution_count": 130,
   "metadata": {},
   "outputs": [],
   "source": [
    "# Preivew DataFrame\n",
    "#materials_df"
   ]
  },
  {
   "cell_type": "code",
   "execution_count": 131,
   "metadata": {},
   "outputs": [],
   "source": [
    "# save to .csv file\n",
    "materials_df.to_csv(\"BotW_material_stats.csv\", index=False)"
   ]
  },
  {
   "cell_type": "markdown",
   "metadata": {},
   "source": [
    "# Get foods list"
   ]
  },
  {
   "cell_type": "code",
   "execution_count": 132,
   "metadata": {},
   "outputs": [],
   "source": [
    "# get foods and add to list\n",
    "for i in creatures_json:\n",
    "    # create a dictionary for foods to create DataFrame)\n",
    "    food_dict = {\n",
    "        \"name\": i['name'],\n",
    "        \"hearts_recovered\": i['hearts_recovered'],\n",
    "        \"cooking_effect\": i['cooking_effect'],\n",
    "    }\n",
    "    # add dictionary to list.\n",
    "    foods.append(food_dict)"
   ]
  },
  {
   "cell_type": "code",
   "execution_count": 133,
   "metadata": {},
   "outputs": [],
   "source": [
    "# Create DataFrame\n",
    "# add a 'none' to the foods that show a blank\n",
    "foods_df = pd.DataFrame(foods).sort_values(by=\"name\")\n",
    "foods_df[\"cooking_effect\"] = ['none' if x == '' else x for x in foods_df['cooking_effect']]"
   ]
  },
  {
   "cell_type": "code",
   "execution_count": 134,
   "metadata": {},
   "outputs": [],
   "source": [
    "# save to .csv file\n",
    "foods_df.to_csv(\"BotW_food_stats.csv\", index=False)"
   ]
  },
  {
   "cell_type": "markdown",
   "metadata": {},
   "source": [
    "# Get monster list ID"
   ]
  },
  {
   "cell_type": "code",
   "execution_count": 135,
   "metadata": {},
   "outputs": [],
   "source": [
    "# get foods and add to list\n",
    "for i in monsters_json:\n",
    "    # create a dictionary for monsters to create DataFrame)\n",
    "    monster_dict = {\n",
    "        \"name\": i['name'],\n",
    "        \"id\": i['id'],\n",
    "    }\n",
    "    # add dictionary to list.\n",
    "    monsters.append(monster_dict)"
   ]
  },
  {
   "cell_type": "code",
   "execution_count": 136,
   "metadata": {},
   "outputs": [
    {
     "data": {
      "text/html": [
       "<div>\n",
       "<style scoped>\n",
       "    .dataframe tbody tr th:only-of-type {\n",
       "        vertical-align: middle;\n",
       "    }\n",
       "\n",
       "    .dataframe tbody tr th {\n",
       "        vertical-align: top;\n",
       "    }\n",
       "\n",
       "    .dataframe thead th {\n",
       "        text-align: right;\n",
       "    }\n",
       "</style>\n",
       "<table border=\"1\" class=\"dataframe\">\n",
       "  <thead>\n",
       "    <tr style=\"text-align: right;\">\n",
       "      <th></th>\n",
       "      <th>name</th>\n",
       "    </tr>\n",
       "    <tr>\n",
       "      <th>id</th>\n",
       "      <th></th>\n",
       "    </tr>\n",
       "  </thead>\n",
       "  <tbody>\n",
       "    <tr>\n",
       "      <th>105</th>\n",
       "      <td>black bokoblin</td>\n",
       "    </tr>\n",
       "    <tr>\n",
       "      <th>149</th>\n",
       "      <td>black hinox</td>\n",
       "    </tr>\n",
       "    <tr>\n",
       "      <th>115</th>\n",
       "      <td>black lizalfos</td>\n",
       "    </tr>\n",
       "    <tr>\n",
       "      <th>110</th>\n",
       "      <td>black moblin</td>\n",
       "    </tr>\n",
       "    <tr>\n",
       "      <th>101</th>\n",
       "      <td>blizzrobe</td>\n",
       "    </tr>\n",
       "    <tr>\n",
       "      <th>...</th>\n",
       "      <td>...</td>\n",
       "    </tr>\n",
       "    <tr>\n",
       "      <th>161</th>\n",
       "      <td>waterblight ganon</td>\n",
       "    </tr>\n",
       "    <tr>\n",
       "      <th>123</th>\n",
       "      <td>white-maned lynel</td>\n",
       "    </tr>\n",
       "    <tr>\n",
       "      <th>162</th>\n",
       "      <td>windblight ganon</td>\n",
       "    </tr>\n",
       "    <tr>\n",
       "      <th>135</th>\n",
       "      <td>yiga blademaster</td>\n",
       "    </tr>\n",
       "    <tr>\n",
       "      <th>134</th>\n",
       "      <td>yiga footsoldier</td>\n",
       "    </tr>\n",
       "  </tbody>\n",
       "</table>\n",
       "<p>81 rows × 1 columns</p>\n",
       "</div>"
      ],
      "text/plain": [
       "                  name\n",
       "id                    \n",
       "105     black bokoblin\n",
       "149        black hinox\n",
       "115     black lizalfos\n",
       "110       black moblin\n",
       "101          blizzrobe\n",
       "..                 ...\n",
       "161  waterblight ganon\n",
       "123  white-maned lynel\n",
       "162   windblight ganon\n",
       "135   yiga blademaster\n",
       "134   yiga footsoldier\n",
       "\n",
       "[81 rows x 1 columns]"
      ]
     },
     "execution_count": 136,
     "metadata": {},
     "output_type": "execute_result"
    }
   ],
   "source": [
    "# Create DataFrame and save to .csv file\n",
    "monsters_df = monsters_df = pd.DataFrame(monsters).sort_values(by=\"name\")\n",
    "monsters_df.to_csv(\"BotW_monster_list.csv\", index=False)\n",
    "monsters_df = monsters_df.set_index(\"id\")\n",
    "monsters_df"
   ]
  },
  {
   "cell_type": "markdown",
   "metadata": {},
   "source": [
    "# Union foods and materials"
   ]
  },
  {
   "cell_type": "code",
   "execution_count": 137,
   "metadata": {},
   "outputs": [],
   "source": [
    "# union materials df and foods df into a new DataFrame\n",
    "consumables_df = pd.concat([materials_df, foods_df]).reset_index(drop=True)"
   ]
  },
  {
   "cell_type": "code",
   "execution_count": 138,
   "metadata": {},
   "outputs": [],
   "source": [
    "consumables_df = consumables_df.sort_values(by=\"hearts_recovered\", ascending=False)"
   ]
  },
  {
   "cell_type": "code",
   "execution_count": 139,
   "metadata": {},
   "outputs": [],
   "source": [
    "# Save consumables to a csv file\n",
    "consumables_df.to_csv(\"BotW_consumables.csv\", index=False)"
   ]
  },
  {
   "cell_type": "markdown",
   "metadata": {},
   "source": [
    "# Get drops ID\n"
   ]
  },
  {
   "cell_type": "code",
   "execution_count": 140,
   "metadata": {},
   "outputs": [
    {
     "data": {
      "text/html": [
       "<div>\n",
       "<style scoped>\n",
       "    .dataframe tbody tr th:only-of-type {\n",
       "        vertical-align: middle;\n",
       "    }\n",
       "\n",
       "    .dataframe tbody tr th {\n",
       "        vertical-align: top;\n",
       "    }\n",
       "\n",
       "    .dataframe thead th {\n",
       "        text-align: right;\n",
       "    }\n",
       "</style>\n",
       "<table border=\"1\" class=\"dataframe\">\n",
       "  <thead>\n",
       "    <tr style=\"text-align: right;\">\n",
       "      <th></th>\n",
       "      <th>drops</th>\n",
       "    </tr>\n",
       "    <tr>\n",
       "      <th>id</th>\n",
       "      <th></th>\n",
       "    </tr>\n",
       "  </thead>\n",
       "  <tbody>\n",
       "    <tr>\n",
       "      <th>94</th>\n",
       "      <td>octorok tentacle</td>\n",
       "    </tr>\n",
       "    <tr>\n",
       "      <th>94</th>\n",
       "      <td>octo balloon</td>\n",
       "    </tr>\n",
       "    <tr>\n",
       "      <th>94</th>\n",
       "      <td>octorok eyeball</td>\n",
       "    </tr>\n",
       "    <tr>\n",
       "      <th>108</th>\n",
       "      <td>moblin horn</td>\n",
       "    </tr>\n",
       "    <tr>\n",
       "      <th>108</th>\n",
       "      <td>moblin fang</td>\n",
       "    </tr>\n",
       "    <tr>\n",
       "      <th>...</th>\n",
       "      <td>...</td>\n",
       "    </tr>\n",
       "    <tr>\n",
       "      <th>134</th>\n",
       "      <td>purple rupee</td>\n",
       "    </tr>\n",
       "    <tr>\n",
       "      <th>134</th>\n",
       "      <td>mighty bananas</td>\n",
       "    </tr>\n",
       "    <tr>\n",
       "      <th>105</th>\n",
       "      <td>bokoblin horn</td>\n",
       "    </tr>\n",
       "    <tr>\n",
       "      <th>105</th>\n",
       "      <td>bokoblin fang</td>\n",
       "    </tr>\n",
       "    <tr>\n",
       "      <th>105</th>\n",
       "      <td>bokoblin guts</td>\n",
       "    </tr>\n",
       "  </tbody>\n",
       "</table>\n",
       "<p>287 rows × 1 columns</p>\n",
       "</div>"
      ],
      "text/plain": [
       "                drops\n",
       "id                   \n",
       "94   octorok tentacle\n",
       "94       octo balloon\n",
       "94    octorok eyeball\n",
       "108       moblin horn\n",
       "108       moblin fang\n",
       "..                ...\n",
       "134      purple rupee\n",
       "134    mighty bananas\n",
       "105     bokoblin horn\n",
       "105     bokoblin fang\n",
       "105     bokoblin guts\n",
       "\n",
       "[287 rows x 1 columns]"
      ]
     },
     "execution_count": 140,
     "metadata": {},
     "output_type": "execute_result"
    }
   ],
   "source": [
    "# Iterate through json and check if the value that I represents is an empty list\n",
    "# If it is set the drops variable to None otherwise append the drop information and create a DF\n",
    "drops = []\n",
    "for i in monsters_json:\n",
    "    if i['drops'] == []:\n",
    "        i['drops'] = None\n",
    "    else:\n",
    "        drops_dict = {\n",
    "        \"drops\": i['drops'],\n",
    "        \"id\": i['id'],\n",
    "        }\n",
    "    drops.append(drops_dict)\n",
    "drops_df = pd.DataFrame(drops)\n",
    "# set the index of the dataframe to the id (will be handy when you split your entries next)\n",
    "drops_df.set_index(drops_df['id'],inplace=True)\n",
    "# split each item in  the df['drops'] and send it to a new row. Setting the index above allows us to \n",
    "# keep the index intact when we split them. \n",
    "drops_df = drops_df.explode('drops')\n",
    "# Filter the dataframe to keep only the column that we need\n",
    "drops_df[['drops']]"
   ]
  },
  {
   "cell_type": "code",
   "execution_count": 141,
   "metadata": {},
   "outputs": [],
   "source": [
    "drops_df.to_csv(\"BotW_drop.csv\")"
   ]
  },
  {
   "cell_type": "code",
   "execution_count": 142,
   "metadata": {},
   "outputs": [],
   "source": [
    "# create dataframe to hold drop counts\n",
    "drops_count_df = pd.DataFrame(drops_df.index.value_counts())\n",
    "# Renme id column to 'drop_counts'\n",
    "drops_count_df = drops_count_df.rename(columns={\"id\":\"drop_count\"})"
   ]
  },
  {
   "cell_type": "code",
   "execution_count": 143,
   "metadata": {},
   "outputs": [
    {
     "data": {
      "text/html": [
       "<div>\n",
       "<style scoped>\n",
       "    .dataframe tbody tr th:only-of-type {\n",
       "        vertical-align: middle;\n",
       "    }\n",
       "\n",
       "    .dataframe tbody tr th {\n",
       "        vertical-align: top;\n",
       "    }\n",
       "\n",
       "    .dataframe thead th {\n",
       "        text-align: right;\n",
       "    }\n",
       "</style>\n",
       "<table border=\"1\" class=\"dataframe\">\n",
       "  <thead>\n",
       "    <tr style=\"text-align: right;\">\n",
       "      <th></th>\n",
       "      <th>drop_count</th>\n",
       "    </tr>\n",
       "    <tr>\n",
       "      <th>id</th>\n",
       "      <th></th>\n",
       "    </tr>\n",
       "  </thead>\n",
       "  <tbody>\n",
       "    <tr>\n",
       "      <th>104</th>\n",
       "      <td>18</td>\n",
       "    </tr>\n",
       "    <tr>\n",
       "      <th>148</th>\n",
       "      <td>12</td>\n",
       "    </tr>\n",
       "    <tr>\n",
       "      <th>147</th>\n",
       "      <td>10</td>\n",
       "    </tr>\n",
       "    <tr>\n",
       "      <th>112</th>\n",
       "      <td>9</td>\n",
       "    </tr>\n",
       "    <tr>\n",
       "      <th>149</th>\n",
       "      <td>9</td>\n",
       "    </tr>\n",
       "    <tr>\n",
       "      <th>...</th>\n",
       "      <td>...</td>\n",
       "    </tr>\n",
       "    <tr>\n",
       "      <th>154</th>\n",
       "      <td>1</td>\n",
       "    </tr>\n",
       "    <tr>\n",
       "      <th>150</th>\n",
       "      <td>1</td>\n",
       "    </tr>\n",
       "    <tr>\n",
       "      <th>152</th>\n",
       "      <td>1</td>\n",
       "    </tr>\n",
       "    <tr>\n",
       "      <th>153</th>\n",
       "      <td>1</td>\n",
       "    </tr>\n",
       "    <tr>\n",
       "      <th>84</th>\n",
       "      <td>1</td>\n",
       "    </tr>\n",
       "  </tbody>\n",
       "</table>\n",
       "<p>63 rows × 1 columns</p>\n",
       "</div>"
      ],
      "text/plain": [
       "     drop_count\n",
       "id             \n",
       "104          18\n",
       "148          12\n",
       "147          10\n",
       "112           9\n",
       "149           9\n",
       "..          ...\n",
       "154           1\n",
       "150           1\n",
       "152           1\n",
       "153           1\n",
       "84            1\n",
       "\n",
       "[63 rows x 1 columns]"
      ]
     },
     "execution_count": 143,
     "metadata": {},
     "output_type": "execute_result"
    }
   ],
   "source": [
    "# rename index to 'id'\n",
    "drops_count_df.index.name = \"id\"\n",
    "drops_count_df"
   ]
  },
  {
   "cell_type": "code",
   "execution_count": 144,
   "metadata": {},
   "outputs": [],
   "source": [
    "# Merge drop_counts_df and mosnters_df to obtain total count of drops\n",
    "# for a monster\n",
    "calamity_df = pd.merge(monsters_df, drops_count_df, how=\"outer\", on=\"id\")\n",
    "calamity_df = calamity_df.sort_values(by=\"drop_count\", ascending=False)"
   ]
  },
  {
   "cell_type": "code",
   "execution_count": 145,
   "metadata": {},
   "outputs": [],
   "source": [
    "# Save new DataFrame to csv file\n",
    "calamity_df\n",
    "calamity_df.to_csv(\"BotW_drop_counts.csv\")"
   ]
  },
  {
   "cell_type": "code",
   "execution_count": null,
   "metadata": {},
   "outputs": [],
   "source": []
  },
  {
   "cell_type": "code",
   "execution_count": 211,
   "metadata": {},
   "outputs": [],
   "source": [
    "#attack data frame \n",
    "\n",
    "attack = equipment_df[\"attack\"]\n",
    "name = equipment_df[\"name\"]\n",
    "attack_df = pd.DataFrame({\"name\" : name, \n",
    "                          \"attack\" : attack})\n",
    "attack_df = attack_df.drop_duplicates().fillna(0).sort_values(by=\"attack\", ascending=False).reset_index(drop=True)\n",
    "attack_df = attack_df[attack_df[\"attack\"] != 0 ]\n",
    "attack_df = attack_df[attack_df[\"attack\"] != 1000000000.0]\n",
    "attack_df = attack_df.set_index(\"name\")"
   ]
  },
  {
   "cell_type": "code",
   "execution_count": 214,
   "metadata": {},
   "outputs": [
    {
     "data": {
      "image/png": "[encoded data removed]",
      "text/plain": [
       "<Figure size 1080x576 with 1 Axes>"
      ]
     },
     "metadata": {
      "needs_background": "light"
     },
     "output_type": "display_data"
    }
   ],
   "source": [
    "fig, ax = plt.subplots()\n",
    "attack_df.plot(kind=\"bar\", figsize=(15, 8), ax = ax, \n",
    "              title= \"What is the Strongest Attack Equipment?\", \n",
    "              xlabel= \"Name of Equipment\",\n",
    "               ylabel =\"Attack Strength\"); \n",
    "fig.tight_layout()\n",
    "#plot.savefig"
   ]
  },
  {
   "cell_type": "code",
   "execution_count": null,
   "metadata": {},
   "outputs": [],
   "source": []
  },
  {
   "cell_type": "code",
   "execution_count": null,
   "metadata": {},
   "outputs": [],
   "source": []
  },
  {
   "cell_type": "code",
   "execution_count": null,
   "metadata": {},
   "outputs": [],
   "source": []
  },
  {
   "cell_type": "code",
   "execution_count": null,
   "metadata": {},
   "outputs": [],
   "source": []
  }
 ],
 "metadata": {
  "kernelspec": {
   "display_name": "Python 3",
   "language": "python",
   "name": "python3"
  },
  "language_info": {
   "codemirror_mode": {
    "name": "ipython",
    "version": 3
   },
   "file_extension": ".py",
   "mimetype": "text/x-python",
   "name": "python",
   "nbconvert_exporter": "python",
   "pygments_lexer": "ipython3",
   "version": "3.8.5"
  }
 },
 "nbformat": 4,
 "nbformat_minor": 4
}
