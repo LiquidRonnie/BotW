{
 "cells": [
  {
   "cell_type": "markdown",
   "metadata": {},
   "source": [
    "# Breath of the Wild"
   ]
  },
  {
   "cell_type": "code",
   "execution_count": 37,
   "metadata": {},
   "outputs": [],
   "source": [
    "# call in dependencies\n",
    "import requests\n",
    "import json\n",
    "import pandas as pd\n",
    "import os\n",
    "from pyrule_compendium import compendium\n",
    "from pprint import pprint\n",
    "import csv\n",
    "import matplotlib.pyplot as plt\n",
    "import csv"
   ]
  },
  {
   "cell_type": "code",
   "execution_count": 2,
   "metadata": {},
   "outputs": [],
   "source": [
    "comp = compendium()\n",
    "\n",
    "#pprint(comp.get_all()[\"equipment\"][0]) # get all entries\n",
    "# print(comp.get_entry(\"silver lynel\")) # get a specific entry with it's name\n",
    "# pprint(comp.get_entry(380)) #get a specific entry with it's ID\n",
    "# pprint(comp.get_category(\"equipment\")) # get all entries in a category\n",
    "# comp.download_entry_image(\"silver lynel\", \"dream_pet.png\") # download entry image"
   ]
  },
  {
   "cell_type": "code",
   "execution_count": 3,
   "metadata": {},
   "outputs": [],
   "source": [
    "# create empty list to store item\n",
    "equip_list = []\n",
    "equip = {}\n",
    "materials = []\n",
    "monsters = []\n",
    "foods = []\n",
    "drops = []"
   ]
  },
  {
   "cell_type": "code",
   "execution_count": 4,
   "metadata": {},
   "outputs": [],
   "source": [
    "# pull category data and assign to a variable, to be used for appending to lists.\n",
    "equipment_json = comp.get_all()[\"equipment\"]\n",
    "materials_json = comp.get_all()[\"materials\"]\n",
    "monsters_json = comp.get_all()[\"monsters\"]\n",
    "creatures_json = comp.get_all()[\"creatures\"][\"food\"]"
   ]
  },
  {
   "cell_type": "markdown",
   "metadata": {},
   "source": [
    "# Get equipment list"
   ]
  },
  {
   "cell_type": "code",
   "execution_count": 5,
   "metadata": {},
   "outputs": [],
   "source": [
    "# create loop to get equipment data store to list.\n",
    "for i in equipment_json:\n",
    "    # create a dictionary for equipment to create DataFrame\n",
    "    equipment_dict = {\n",
    "        \"name\": i['name'],\n",
    "        \"attack\": i['attack'],\n",
    "        \"defense\": i['defense']\n",
    "    }\n",
    "    # add dictionary to list.\n",
    "    equip_list.append(equipment_dict)"
   ]
  },
  {
   "cell_type": "code",
   "execution_count": 6,
   "metadata": {},
   "outputs": [],
   "source": [
    "# Create DataFrame and save to .csv file\n",
    "equipment_df = pd.DataFrame(equip_list).sort_values(by=\"name\")\n",
    "equipment_df.to_csv(\"BotW_equip_stats.csv\", index=False)"
   ]
  },
  {
   "cell_type": "markdown",
   "metadata": {},
   "source": [
    "# Get materials list"
   ]
  },
  {
   "cell_type": "code",
   "execution_count": 7,
   "metadata": {},
   "outputs": [],
   "source": [
    "# get materials and add to list\n",
    "for i in materials_json:\n",
    "    # create a dictionary for materials to create DataFrame)\n",
    "    material_dict = {\n",
    "        \"name\": i['name'],\n",
    "        \"hearts_recovered\": i['hearts_recovered'],\n",
    "        \"cooking_effect\": i['cooking_effect'],\n",
    "    }\n",
    "     # add dictionary to list.\n",
    "    materials.append(material_dict)"
   ]
  },
  {
   "cell_type": "code",
   "execution_count": 8,
   "metadata": {},
   "outputs": [],
   "source": [
    "# Create DataFrame from dictionary\n",
    "materials_df = pd.DataFrame(materials)"
   ]
  },
  {
   "cell_type": "code",
   "execution_count": 9,
   "metadata": {},
   "outputs": [],
   "source": [
    "# add a 'none' to the cooking_effect that show a blank\n",
    "materials_df[\"cooking_effect\"] = ['none' if x == '' else x for x in materials_df['cooking_effect']]"
   ]
  },
  {
   "cell_type": "code",
   "execution_count": 10,
   "metadata": {},
   "outputs": [],
   "source": [
    "# Preivew DataFrame\n",
    "#materials_df"
   ]
  },
  {
   "cell_type": "code",
   "execution_count": 11,
   "metadata": {},
   "outputs": [],
   "source": [
    "# save to .csv file\n",
    "materials_df.to_csv(\"BotW_material_stats.csv\", index=False)"
   ]
  },
  {
   "cell_type": "markdown",
   "metadata": {},
   "source": [
    "# Get foods list"
   ]
  },
  {
   "cell_type": "code",
   "execution_count": 12,
   "metadata": {},
   "outputs": [],
   "source": [
    "# get foods and add to list\n",
    "for i in creatures_json:\n",
    "    # create a dictionary for foods to create DataFrame)\n",
    "    food_dict = {\n",
    "        \"name\": i['name'],\n",
    "        \"hearts_recovered\": i['hearts_recovered'],\n",
    "        \"cooking_effect\": i['cooking_effect'],\n",
    "    }\n",
    "    # add dictionary to list.\n",
    "    foods.append(food_dict)"
   ]
  },
  {
   "cell_type": "code",
   "execution_count": 13,
   "metadata": {},
   "outputs": [],
   "source": [
    "# Create DataFrame\n",
    "# add a 'none' to the foods that show a blank\n",
    "foods_df = pd.DataFrame(foods).sort_values(by=\"name\")\n",
    "foods_df[\"cooking_effect\"] = ['none' if x == '' else x for x in foods_df['cooking_effect']]"
   ]
  },
  {
   "cell_type": "code",
   "execution_count": 14,
   "metadata": {},
   "outputs": [],
   "source": [
    "# save to .csv file\n",
    "foods_df.to_csv(\"BotW_food_stats.csv\", index=False)"
   ]
  },
  {
   "cell_type": "markdown",
   "metadata": {},
   "source": [
    "# Get monster list ID"
   ]
  },
  {
   "cell_type": "code",
   "execution_count": 15,
   "metadata": {},
   "outputs": [],
   "source": [
    "# get foods and add to list\n",
    "for i in monsters_json:\n",
    "    # create a dictionary for monsters to create DataFrame)\n",
    "    monster_dict = {\n",
    "        \"name\": i['name'],\n",
    "        \"id\": i['id'],\n",
    "    }\n",
    "    # add dictionary to list.\n",
    "    monsters.append(monster_dict)"
   ]
  },
  {
   "cell_type": "code",
   "execution_count": 16,
   "metadata": {},
   "outputs": [
    {
     "data": {
      "text/html": [
       "<div>\n",
       "<style scoped>\n",
       "    .dataframe tbody tr th:only-of-type {\n",
       "        vertical-align: middle;\n",
       "    }\n",
       "\n",
       "    .dataframe tbody tr th {\n",
       "        vertical-align: top;\n",
       "    }\n",
       "\n",
       "    .dataframe thead th {\n",
       "        text-align: right;\n",
       "    }\n",
       "</style>\n",
       "<table border=\"1\" class=\"dataframe\">\n",
       "  <thead>\n",
       "    <tr style=\"text-align: right;\">\n",
       "      <th></th>\n",
       "      <th>name</th>\n",
       "    </tr>\n",
       "    <tr>\n",
       "      <th>id</th>\n",
       "      <th></th>\n",
       "    </tr>\n",
       "  </thead>\n",
       "  <tbody>\n",
       "    <tr>\n",
       "      <th>105</th>\n",
       "      <td>black bokoblin</td>\n",
       "    </tr>\n",
       "    <tr>\n",
       "      <th>149</th>\n",
       "      <td>black hinox</td>\n",
       "    </tr>\n",
       "    <tr>\n",
       "      <th>115</th>\n",
       "      <td>black lizalfos</td>\n",
       "    </tr>\n",
       "    <tr>\n",
       "      <th>110</th>\n",
       "      <td>black moblin</td>\n",
       "    </tr>\n",
       "    <tr>\n",
       "      <th>101</th>\n",
       "      <td>blizzrobe</td>\n",
       "    </tr>\n",
       "    <tr>\n",
       "      <th>...</th>\n",
       "      <td>...</td>\n",
       "    </tr>\n",
       "    <tr>\n",
       "      <th>161</th>\n",
       "      <td>waterblight ganon</td>\n",
       "    </tr>\n",
       "    <tr>\n",
       "      <th>123</th>\n",
       "      <td>white-maned lynel</td>\n",
       "    </tr>\n",
       "    <tr>\n",
       "      <th>162</th>\n",
       "      <td>windblight ganon</td>\n",
       "    </tr>\n",
       "    <tr>\n",
       "      <th>135</th>\n",
       "      <td>yiga blademaster</td>\n",
       "    </tr>\n",
       "    <tr>\n",
       "      <th>134</th>\n",
       "      <td>yiga footsoldier</td>\n",
       "    </tr>\n",
       "  </tbody>\n",
       "</table>\n",
       "<p>81 rows × 1 columns</p>\n",
       "</div>"
      ],
      "text/plain": [
       "                  name\n",
       "id                    \n",
       "105     black bokoblin\n",
       "149        black hinox\n",
       "115     black lizalfos\n",
       "110       black moblin\n",
       "101          blizzrobe\n",
       "..                 ...\n",
       "161  waterblight ganon\n",
       "123  white-maned lynel\n",
       "162   windblight ganon\n",
       "135   yiga blademaster\n",
       "134   yiga footsoldier\n",
       "\n",
       "[81 rows x 1 columns]"
      ]
     },
     "execution_count": 16,
     "metadata": {},
     "output_type": "execute_result"
    }
   ],
   "source": [
    "# Create DataFrame and save to .csv file\n",
    "monsters_df = monsters_df = pd.DataFrame(monsters).sort_values(by=\"name\")\n",
    "monsters_df.to_csv(\"BotW_monster_list.csv\", index=False)\n",
    "monsters_df = monsters_df.set_index(\"id\")\n",
    "monsters_df"
   ]
  },
  {
   "cell_type": "markdown",
   "metadata": {},
   "source": [
    "# Union foods and materials"
   ]
  },
  {
   "cell_type": "code",
   "execution_count": 17,
   "metadata": {},
   "outputs": [],
   "source": [
    "# union materials df and foods df into a new DataFrame\n",
    "consumables_df = pd.concat([materials_df, foods_df]).reset_index(drop=True)"
   ]
  },
  {
   "cell_type": "code",
   "execution_count": 18,
   "metadata": {},
   "outputs": [],
   "source": [
    "consumables_df = consumables_df.sort_values(by=\"hearts_recovered\", ascending=False)"
   ]
  },
  {
   "cell_type": "code",
   "execution_count": 19,
   "metadata": {},
   "outputs": [],
   "source": [
    "# Save consumables to a csv file\n",
    "consumables_df.to_csv(\"BotW_consumables.csv\", index=False)"
   ]
  },
  {
   "cell_type": "markdown",
   "metadata": {},
   "source": [
    "# Get drops ID\n"
   ]
  },
  {
   "cell_type": "code",
   "execution_count": 20,
   "metadata": {},
   "outputs": [
    {
     "data": {
      "text/html": [
       "<div>\n",
       "<style scoped>\n",
       "    .dataframe tbody tr th:only-of-type {\n",
       "        vertical-align: middle;\n",
       "    }\n",
       "\n",
       "    .dataframe tbody tr th {\n",
       "        vertical-align: top;\n",
       "    }\n",
       "\n",
       "    .dataframe thead th {\n",
       "        text-align: right;\n",
       "    }\n",
       "</style>\n",
       "<table border=\"1\" class=\"dataframe\">\n",
       "  <thead>\n",
       "    <tr style=\"text-align: right;\">\n",
       "      <th></th>\n",
       "      <th>drops</th>\n",
       "    </tr>\n",
       "    <tr>\n",
       "      <th>id</th>\n",
       "      <th></th>\n",
       "    </tr>\n",
       "  </thead>\n",
       "  <tbody>\n",
       "    <tr>\n",
       "      <th>108</th>\n",
       "      <td>moblin horn</td>\n",
       "    </tr>\n",
       "    <tr>\n",
       "      <th>108</th>\n",
       "      <td>moblin fang</td>\n",
       "    </tr>\n",
       "    <tr>\n",
       "      <th>120</th>\n",
       "      <td>lizalfos horn</td>\n",
       "    </tr>\n",
       "    <tr>\n",
       "      <th>120</th>\n",
       "      <td>lizalfos talon</td>\n",
       "    </tr>\n",
       "    <tr>\n",
       "      <th>120</th>\n",
       "      <td>lizalfos tail</td>\n",
       "    </tr>\n",
       "    <tr>\n",
       "      <th>...</th>\n",
       "      <td>...</td>\n",
       "    </tr>\n",
       "    <tr>\n",
       "      <th>91</th>\n",
       "      <td>electric keese wing</td>\n",
       "    </tr>\n",
       "    <tr>\n",
       "      <th>91</th>\n",
       "      <td>keese eyeball</td>\n",
       "    </tr>\n",
       "    <tr>\n",
       "      <th>92</th>\n",
       "      <td>octorok tentacle</td>\n",
       "    </tr>\n",
       "    <tr>\n",
       "      <th>92</th>\n",
       "      <td>octo balloon</td>\n",
       "    </tr>\n",
       "    <tr>\n",
       "      <th>92</th>\n",
       "      <td>octorok eyeball</td>\n",
       "    </tr>\n",
       "  </tbody>\n",
       "</table>\n",
       "<p>316 rows × 1 columns</p>\n",
       "</div>"
      ],
      "text/plain": [
       "                   drops\n",
       "id                      \n",
       "108          moblin horn\n",
       "108          moblin fang\n",
       "120        lizalfos horn\n",
       "120       lizalfos talon\n",
       "120        lizalfos tail\n",
       "..                   ...\n",
       "91   electric keese wing\n",
       "91         keese eyeball\n",
       "92      octorok tentacle\n",
       "92          octo balloon\n",
       "92       octorok eyeball\n",
       "\n",
       "[316 rows x 1 columns]"
      ]
     },
     "execution_count": 20,
     "metadata": {},
     "output_type": "execute_result"
    }
   ],
   "source": [
    "# Iterate through json and check if the value that I represents is an empty list\n",
    "# If it is set the drops variable to None otherwise append the drop information and create a DF\n",
    "drops = []\n",
    "for i in monsters_json:\n",
    "    if i['drops'] == []:\n",
    "        i['drops'] = None\n",
    "    else:\n",
    "        drops_dict = {\n",
    "        \"drops\": i['drops'],\n",
    "        \"id\": i['id'],\n",
    "        }\n",
    "    drops.append(drops_dict)\n",
    "drops_df = pd.DataFrame(drops)\n",
    "# set the index of the dataframe to the id (will be handy when you split your entries next)\n",
    "drops_df.set_index(drops_df['id'],inplace=True)\n",
    "# split each item in  the df['drops'] and send it to a new row. Setting the index above allows us to \n",
    "# keep the index intact when we split them. \n",
    "drops_df = drops_df.explode('drops')\n",
    "# Filter the dataframe to keep only the column that we need\n",
    "drops_df[['drops']]"
   ]
  },
  {
   "cell_type": "code",
   "execution_count": 21,
   "metadata": {},
   "outputs": [],
   "source": [
    "drops_df.to_csv(\"BotW_drop.csv\")"
   ]
  },
  {
   "cell_type": "code",
   "execution_count": 22,
   "metadata": {},
   "outputs": [],
   "source": [
    "# create dataframe to hold drop counts\n",
    "drops_count_df = pd.DataFrame(drops_df.index.value_counts())\n",
    "# Renme id column to 'drop_counts'\n",
    "drops_count_df = drops_count_df.rename(columns={\"id\":\"drop_count\"})"
   ]
  },
  {
   "cell_type": "code",
   "execution_count": 23,
   "metadata": {},
   "outputs": [
    {
     "data": {
      "text/html": [
       "<div>\n",
       "<style scoped>\n",
       "    .dataframe tbody tr th:only-of-type {\n",
       "        vertical-align: middle;\n",
       "    }\n",
       "\n",
       "    .dataframe tbody tr th {\n",
       "        vertical-align: top;\n",
       "    }\n",
       "\n",
       "    .dataframe thead th {\n",
       "        text-align: right;\n",
       "    }\n",
       "</style>\n",
       "<table border=\"1\" class=\"dataframe\">\n",
       "  <thead>\n",
       "    <tr style=\"text-align: right;\">\n",
       "      <th></th>\n",
       "      <th>drop_count</th>\n",
       "    </tr>\n",
       "    <tr>\n",
       "      <th>id</th>\n",
       "      <th></th>\n",
       "    </tr>\n",
       "  </thead>\n",
       "  <tbody>\n",
       "    <tr>\n",
       "      <th>147</th>\n",
       "      <td>20</td>\n",
       "    </tr>\n",
       "    <tr>\n",
       "      <th>112</th>\n",
       "      <td>18</td>\n",
       "    </tr>\n",
       "    <tr>\n",
       "      <th>124</th>\n",
       "      <td>16</td>\n",
       "    </tr>\n",
       "    <tr>\n",
       "      <th>139</th>\n",
       "      <td>12</td>\n",
       "    </tr>\n",
       "    <tr>\n",
       "      <th>148</th>\n",
       "      <td>12</td>\n",
       "    </tr>\n",
       "    <tr>\n",
       "      <th>...</th>\n",
       "      <td>...</td>\n",
       "    </tr>\n",
       "    <tr>\n",
       "      <th>153</th>\n",
       "      <td>1</td>\n",
       "    </tr>\n",
       "    <tr>\n",
       "      <th>87</th>\n",
       "      <td>1</td>\n",
       "    </tr>\n",
       "    <tr>\n",
       "      <th>86</th>\n",
       "      <td>1</td>\n",
       "    </tr>\n",
       "    <tr>\n",
       "      <th>85</th>\n",
       "      <td>1</td>\n",
       "    </tr>\n",
       "    <tr>\n",
       "      <th>84</th>\n",
       "      <td>1</td>\n",
       "    </tr>\n",
       "  </tbody>\n",
       "</table>\n",
       "<p>63 rows × 1 columns</p>\n",
       "</div>"
      ],
      "text/plain": [
       "     drop_count\n",
       "id             \n",
       "147          20\n",
       "112          18\n",
       "124          16\n",
       "139          12\n",
       "148          12\n",
       "..          ...\n",
       "153           1\n",
       "87            1\n",
       "86            1\n",
       "85            1\n",
       "84            1\n",
       "\n",
       "[63 rows x 1 columns]"
      ]
     },
     "execution_count": 23,
     "metadata": {},
     "output_type": "execute_result"
    }
   ],
   "source": [
    "# rename index to 'id'\n",
    "drops_count_df.index.name = \"id\"\n",
    "drops_count_df"
   ]
  },
  {
   "cell_type": "code",
   "execution_count": 24,
   "metadata": {},
   "outputs": [],
   "source": [
    "# Merge drop_counts_df and mosnters_df to obtain total count of drops\n",
    "# for a monster\n",
    "calamity_df = pd.merge(monsters_df, drops_count_df, how=\"outer\", on=\"id\")\n",
    "calamity_df = calamity_df.sort_values(by=\"drop_count\", ascending=False)"
   ]
  },
  {
   "cell_type": "code",
   "execution_count": 25,
   "metadata": {},
   "outputs": [],
   "source": [
    "# Save new DataFrame to csv file\n",
    "calamity_df\n",
    "calamity_df.to_csv(\"BotW_drop_counts.csv\")"
   ]
  },
  {
   "cell_type": "markdown",
   "metadata": {},
   "source": [
    "## Let's get into the game details\n",
    "\n",
    "## how many defense weapons are there and which is the best one?"
   ]
  },
  {
   "cell_type": "code",
   "execution_count": 26,
   "metadata": {},
   "outputs": [
    {
     "data": {
      "text/html": [
       "<div>\n",
       "<style scoped>\n",
       "    .dataframe tbody tr th:only-of-type {\n",
       "        vertical-align: middle;\n",
       "    }\n",
       "\n",
       "    .dataframe tbody tr th {\n",
       "        vertical-align: top;\n",
       "    }\n",
       "\n",
       "    .dataframe thead th {\n",
       "        text-align: right;\n",
       "    }\n",
       "</style>\n",
       "<table border=\"1\" class=\"dataframe\">\n",
       "  <thead>\n",
       "    <tr style=\"text-align: right;\">\n",
       "      <th></th>\n",
       "      <th>name</th>\n",
       "      <th>attack</th>\n",
       "      <th>defense</th>\n",
       "    </tr>\n",
       "  </thead>\n",
       "  <tbody>\n",
       "    <tr>\n",
       "      <th>42</th>\n",
       "      <td>hylian shield</td>\n",
       "      <td>0.0</td>\n",
       "      <td>90.0</td>\n",
       "    </tr>\n",
       "    <tr>\n",
       "      <th>23</th>\n",
       "      <td>ancient shield</td>\n",
       "      <td>0.0</td>\n",
       "      <td>70.0</td>\n",
       "    </tr>\n",
       "    <tr>\n",
       "      <th>28</th>\n",
       "      <td>royal guard's shield</td>\n",
       "      <td>0.0</td>\n",
       "      <td>70.0</td>\n",
       "    </tr>\n",
       "    <tr>\n",
       "      <th>74</th>\n",
       "      <td>savage lynel shield</td>\n",
       "      <td>0.0</td>\n",
       "      <td>62.0</td>\n",
       "    </tr>\n",
       "    <tr>\n",
       "      <th>49</th>\n",
       "      <td>royal shield</td>\n",
       "      <td>0.0</td>\n",
       "      <td>55.0</td>\n",
       "    </tr>\n",
       "    <tr>\n",
       "      <th>...</th>\n",
       "      <td>...</td>\n",
       "      <td>...</td>\n",
       "      <td>...</td>\n",
       "    </tr>\n",
       "    <tr>\n",
       "      <th>160</th>\n",
       "      <td>great flameblade</td>\n",
       "      <td>34.0</td>\n",
       "      <td>0.0</td>\n",
       "    </tr>\n",
       "    <tr>\n",
       "      <th>96</th>\n",
       "      <td>great frostblade</td>\n",
       "      <td>30.0</td>\n",
       "      <td>0.0</td>\n",
       "    </tr>\n",
       "    <tr>\n",
       "      <th>68</th>\n",
       "      <td>great thunderblade</td>\n",
       "      <td>32.0</td>\n",
       "      <td>0.0</td>\n",
       "    </tr>\n",
       "    <tr>\n",
       "      <th>55</th>\n",
       "      <td>guardian spear</td>\n",
       "      <td>10.0</td>\n",
       "      <td>0.0</td>\n",
       "    </tr>\n",
       "    <tr>\n",
       "      <th>181</th>\n",
       "      <td>zora sword</td>\n",
       "      <td>15.0</td>\n",
       "      <td>0.0</td>\n",
       "    </tr>\n",
       "  </tbody>\n",
       "</table>\n",
       "<p>185 rows × 3 columns</p>\n",
       "</div>"
      ],
      "text/plain": [
       "                     name  attack  defense\n",
       "42          hylian shield     0.0     90.0\n",
       "23         ancient shield     0.0     70.0\n",
       "28   royal guard's shield     0.0     70.0\n",
       "74    savage lynel shield     0.0     62.0\n",
       "49           royal shield     0.0     55.0\n",
       "..                    ...     ...      ...\n",
       "160      great flameblade    34.0      0.0\n",
       "96       great frostblade    30.0      0.0\n",
       "68     great thunderblade    32.0      0.0\n",
       "55         guardian spear    10.0      0.0\n",
       "181            zora sword    15.0      0.0\n",
       "\n",
       "[185 rows x 3 columns]"
      ]
     },
     "execution_count": 26,
     "metadata": {},
     "output_type": "execute_result"
    }
   ],
   "source": [
    "# Bring equipment table\n",
    "equipment_df = equipment_df.fillna(0).sort_values(by=\"defense\", ascending=False)\n",
    "equipment_df"
   ]
  },
  {
   "cell_type": "code",
   "execution_count": 27,
   "metadata": {},
   "outputs": [],
   "source": [
    "# create Defense Df for barchart\n",
    "# set variables to hols name and defense\n",
    "equipment = equipment_df[\"name\"]\n",
    "#convert floats to ints\n",
    "defense = equipment_df[\"defense\"].astype(int)\n",
    "defense_bar_df = pd.DataFrame({\"Equipment\":equipment, \"Defense\":defense})\n",
    "defense_bar_df = defense_bar_df[defense_bar_df['Defense'] !=0]\n",
    "defense_bar_df = defense_bar_df.set_index(\"Equipment\")"
   ]
  },
  {
   "cell_type": "code",
   "execution_count": 28,
   "metadata": {
    "scrolled": false
   },
   "outputs": [
    {
     "name": "stdout",
     "output_type": "stream",
     "text": [
      "the shiled with the best defense is the Hylian Shield with 90 defense\n"
     ]
    },
    {
     "data": {
      "image/png": "[encoded data removed]",
      "text/plain": [
       "<Figure size 720x432 with 1 Axes>"
      ]
     },
     "metadata": {
      "needs_background": "light"
     },
     "output_type": "display_data"
    }
   ],
   "source": [
    "# plot bar chart from DataFrame\n",
    "fig, ax = plt.subplots()\n",
    "defense_bar_df.plot(kind=\"bar\", figsize=(10,6), ax=ax, \n",
    "                  title=\"What is the Best Defense Equipment\",\n",
    "                  xlabel=\"Equipment\",\n",
    "                  ylabel=\"Defense\");\n",
    "fig.tight_layout();\n",
    "plt.savefig(\"../BotW/images/defense_bar.png\")\n",
    "print(f\"the shiled with the best defense is the Hylian Shield with {int(equipment_df['defense'].max())} defense\")"
   ]
  },
  {
   "cell_type": "code",
   "execution_count": null,
   "metadata": {},
   "outputs": [],
   "source": []
  },
  {
   "cell_type": "markdown",
   "metadata": {},
   "source": [
    "## Cooking gives you Hearts\n",
    "## Hearts help you stay alive"
   ]
  },
  {
   "cell_type": "code",
   "execution_count": 29,
   "metadata": {},
   "outputs": [],
   "source": [
    "# obtain consumables DF\n",
    "consumables_df\n",
    "# create hearts Df for barchart\n",
    "hearts_df = pd.DataFrame(consumables_df)\n",
    "# drop the items that do not give you hearts\n",
    "hearts_df = hearts_df[hearts_df['hearts_recovered'] !=0]\n",
    "# set variables to hold name and\n"
   ]
  },
  {
   "cell_type": "code",
   "execution_count": 30,
   "metadata": {},
   "outputs": [
    {
     "data": {
      "image/png": "[encoded data removed]",
      "text/plain": [
       "<Figure size 720x432 with 1 Axes>"
      ]
     },
     "metadata": {
      "needs_background": "light"
     },
     "output_type": "display_data"
    }
   ],
   "source": [
    "fig2, ax2 = plt.subplots()\n",
    "hearts_df.plot(kind=\"bar\", x=\"name\", y =\"hearts_recovered\",figsize=(10,6), ax=ax2, \n",
    "                  title=\"What gives you the Most Hearts\",\n",
    "                  xlabel=\"Equipment\",\n",
    "                  ylabel=\"Hearts Given\");"
   ]
  },
  {
   "cell_type": "code",
   "execution_count": 31,
   "metadata": {},
   "outputs": [
    {
     "data": {
      "image/png": "[encoded data removed]",
      "text/plain": [
       "<Figure size 432x288 with 1 Axes>"
      ]
     },
     "metadata": {
      "needs_background": "light"
     },
     "output_type": "display_data"
    },
    {
     "name": "stdout",
     "output_type": "stream",
     "text": [
      "The lower quartile of hearts given is: 0.5\n",
      "The upper quartile of hearts given is: 1.0\n",
      "The interquartile range of hearts given is: 0.5\n",
      "The the median of hearts given is: 1.0 \n",
      "Values below -0.25 could be bad items.\n",
      "Values above 1.75 could be really good item.\n"
     ]
    }
   ],
   "source": [
    "# Create box plot to determine outlier from really good items\n",
    "fig3, ax3 = plt.subplots()\n",
    "ax3.set_title('what determins a good item?')\n",
    "ax3.set_ylabel('Hearts given')\n",
    "ax3.boxplot(hearts_df['hearts_recovered'])\n",
    "plt.show()\n",
    "\n",
    "# What makes an item good? \n",
    "\n",
    "quartiles = hearts_df['hearts_recovered'].quantile([.25,.5,.75])\n",
    "lowerq = quartiles[0.25]\n",
    "upperq = quartiles[0.75]\n",
    "iqr = upperq-lowerq\n",
    "print(f\"The lower quartile of hearts given is: {lowerq}\")\n",
    "print(f\"The upper quartile of hearts given is: {upperq}\")\n",
    "print(f\"The interquartile range of hearts given is: {iqr}\")\n",
    "print(f\"The the median of hearts given is: {quartiles[0.5]} \")\n",
    "\n",
    "lower_bound = lowerq - (1.5*iqr)\n",
    "upper_bound = upperq + (1.5*iqr)\n",
    "print(f\"Values below {lower_bound} could be bad items.\")\n",
    "print(f\"Values above {upper_bound} could be really good item.\")"
   ]
  },
  {
   "cell_type": "code",
   "execution_count": 32,
   "metadata": {},
   "outputs": [],
   "source": [
    "# Create loop to display the good items\n",
    "# for hearts in hearts_df['hearts_recovered']:\n",
    "#     if hearts_df['hearts_recovered'].all() > 1.75:"
   ]
  },
  {
   "cell_type": "markdown",
   "metadata": {},
   "source": [
    "## Let's get cooking!"
   ]
  },
  {
   "cell_type": "code",
   "execution_count": 33,
   "metadata": {},
   "outputs": [
    {
     "data": {
      "text/html": [
       "<div>\n",
       "<style scoped>\n",
       "    .dataframe tbody tr th:only-of-type {\n",
       "        vertical-align: middle;\n",
       "    }\n",
       "\n",
       "    .dataframe tbody tr th {\n",
       "        vertical-align: top;\n",
       "    }\n",
       "\n",
       "    .dataframe thead th {\n",
       "        text-align: right;\n",
       "    }\n",
       "</style>\n",
       "<table border=\"1\" class=\"dataframe\">\n",
       "  <thead>\n",
       "    <tr style=\"text-align: right;\">\n",
       "      <th></th>\n",
       "      <th>name</th>\n",
       "      <th>hearts_recovered</th>\n",
       "      <th>cooking_effect</th>\n",
       "    </tr>\n",
       "  </thead>\n",
       "  <tbody>\n",
       "    <tr>\n",
       "      <th>10</th>\n",
       "      <td>hearty radish</td>\n",
       "      <td>20.5</td>\n",
       "      <td>extra hearts</td>\n",
       "    </tr>\n",
       "    <tr>\n",
       "      <th>44</th>\n",
       "      <td>fairy</td>\n",
       "      <td>5.0</td>\n",
       "      <td>none</td>\n",
       "    </tr>\n",
       "    <tr>\n",
       "      <th>49</th>\n",
       "      <td>hearty salmon</td>\n",
       "      <td>4.0</td>\n",
       "      <td>extra hearts</td>\n",
       "    </tr>\n",
       "    <tr>\n",
       "      <th>3</th>\n",
       "      <td>big hearty radish</td>\n",
       "      <td>4.0</td>\n",
       "      <td>extra hearts</td>\n",
       "    </tr>\n",
       "    <tr>\n",
       "      <th>25</th>\n",
       "      <td>hearty durian</td>\n",
       "      <td>3.0</td>\n",
       "      <td>extra hearts</td>\n",
       "    </tr>\n",
       "    <tr>\n",
       "      <th>...</th>\n",
       "      <td>...</td>\n",
       "      <td>...</td>\n",
       "      <td>...</td>\n",
       "    </tr>\n",
       "    <tr>\n",
       "      <th>18</th>\n",
       "      <td>silent princess</td>\n",
       "      <td>0.0</td>\n",
       "      <td>stealth up</td>\n",
       "    </tr>\n",
       "    <tr>\n",
       "      <th>15</th>\n",
       "      <td>blue nightshade</td>\n",
       "      <td>0.0</td>\n",
       "      <td>stealth up</td>\n",
       "    </tr>\n",
       "    <tr>\n",
       "      <th>14</th>\n",
       "      <td>warm safflina</td>\n",
       "      <td>0.0</td>\n",
       "      <td>cold resistance</td>\n",
       "    </tr>\n",
       "    <tr>\n",
       "      <th>12</th>\n",
       "      <td>mighty thistle</td>\n",
       "      <td>0.0</td>\n",
       "      <td>attack up</td>\n",
       "    </tr>\n",
       "    <tr>\n",
       "      <th>71</th>\n",
       "      <td>winterwing butterfly</td>\n",
       "      <td>0.0</td>\n",
       "      <td>heat resistance</td>\n",
       "    </tr>\n",
       "  </tbody>\n",
       "</table>\n",
       "<p>72 rows × 3 columns</p>\n",
       "</div>"
      ],
      "text/plain": [
       "                    name  hearts_recovered   cooking_effect\n",
       "10         hearty radish              20.5     extra hearts\n",
       "44                 fairy               5.0             none\n",
       "49         hearty salmon               4.0     extra hearts\n",
       "3      big hearty radish               4.0     extra hearts\n",
       "25         hearty durian               3.0     extra hearts\n",
       "..                   ...               ...              ...\n",
       "18       silent princess               0.0       stealth up\n",
       "15       blue nightshade               0.0       stealth up\n",
       "14         warm safflina               0.0  cold resistance\n",
       "12        mighty thistle               0.0        attack up\n",
       "71  winterwing butterfly               0.0  heat resistance\n",
       "\n",
       "[72 rows x 3 columns]"
      ]
     },
     "execution_count": 33,
     "metadata": {},
     "output_type": "execute_result"
    }
   ],
   "source": [
    "# Create DataFrame for cooking effects\n",
    "cooking_df = pd.DataFrame(consumables_df)\n",
    "# remove those that don't give a cooking effect\n",
    "#cooking_df = cooking_df[cooking_df['cooking_effect'] !='none']\n",
    "cooking_df"
   ]
  },
  {
   "cell_type": "code",
   "execution_count": 34,
   "metadata": {},
   "outputs": [
    {
     "name": "stdout",
     "output_type": "stream",
     "text": [
      "there are a total of 9 different types of consumales that give you extra hearts\n",
      "this is good for survival and very beneficial for cooking!\n"
     ]
    },
    {
     "data": {
      "image/png": "[encoded data removed]",
      "text/plain": [
       "<Figure size 720x432 with 1 Axes>"
      ]
     },
     "metadata": {
      "needs_background": "light"
     },
     "output_type": "display_data"
    }
   ],
   "source": [
    "# Create a bar chart to capture the value counts of each cooking effect\n",
    "fig4, ax4 = plt.subplots()\n",
    "x = cooking_df['cooking_effect'].unique()\n",
    "y = cooking_df['cooking_effect'].value_counts()\n",
    "# create a new df to hold the value counts of each cooking effect\n",
    "effect_count_df = pd.DataFrame({\"cooking_effect\":x, \"total amount\":y})\n",
    "effect_count_df.plot(kind=\"bar\",figsize=(10,6), ax=ax4, \n",
    "                  title=\"What gives you the Most Hearts\",\n",
    "                  xlabel=\"Equipment\",\n",
    "                  ylabel=\"Hearts Given\");\n",
    "print(f\"there are a total of {cooking_df['cooking_effect'].value_counts().max()} different types of consumales that give you extra hearts\")\n",
    "print(\"this is good for survival and very beneficial for cooking!\")"
   ]
  },
  {
   "cell_type": "code",
   "execution_count": null,
   "metadata": {},
   "outputs": [],
   "source": []
  },
  {
   "cell_type": "markdown",
   "metadata": {},
   "source": [
    "## Let's armor up!"
   ]
  },
  {
   "cell_type": "code",
   "execution_count": 248,
   "metadata": {
    "scrolled": true
   },
   "outputs": [
    {
     "data": {
      "text/html": [
       "<div>\n",
       "<style scoped>\n",
       "    .dataframe tbody tr th:only-of-type {\n",
       "        vertical-align: middle;\n",
       "    }\n",
       "\n",
       "    .dataframe tbody tr th {\n",
       "        vertical-align: top;\n",
       "    }\n",
       "\n",
       "    .dataframe thead th {\n",
       "        text-align: right;\n",
       "    }\n",
       "</style>\n",
       "<table border=\"1\" class=\"dataframe\">\n",
       "  <thead>\n",
       "    <tr style=\"text-align: right;\">\n",
       "      <th></th>\n",
       "      <th>name</th>\n",
       "      <th>class</th>\n",
       "      <th>subclass</th>\n",
       "      <th>tags</th>\n",
       "      <th>durability</th>\n",
       "      <th>strength</th>\n",
       "      <th>range</th>\n",
       "      <th>arrows</th>\n",
       "      <th>defense</th>\n",
       "      <th>defense_upgrade_lvl1</th>\n",
       "      <th>...</th>\n",
       "      <th>description</th>\n",
       "      <th>selling_price</th>\n",
       "      <th>bonus_set</th>\n",
       "      <th>upgrade_1</th>\n",
       "      <th>upgrade_2</th>\n",
       "      <th>upgrade_3</th>\n",
       "      <th>upgrade_4</th>\n",
       "      <th>armor_upgrade</th>\n",
       "      <th>where_to_find</th>\n",
       "      <th>notes</th>\n",
       "    </tr>\n",
       "  </thead>\n",
       "  <tbody>\n",
       "    <tr>\n",
       "      <th>0</th>\n",
       "      <td>Ancient Short Sword</td>\n",
       "      <td>Weapon</td>\n",
       "      <td>Light</td>\n",
       "      <td>NaN</td>\n",
       "      <td>54.0</td>\n",
       "      <td>40.0</td>\n",
       "      <td>NaN</td>\n",
       "      <td>NaN</td>\n",
       "      <td>NaN</td>\n",
       "      <td>NaN</td>\n",
       "      <td>...</td>\n",
       "      <td>The blade of this sword was made using an anci...</td>\n",
       "      <td>NaN</td>\n",
       "      <td>NaN</td>\n",
       "      <td>NaN</td>\n",
       "      <td>NaN</td>\n",
       "      <td>NaN</td>\n",
       "      <td>NaN</td>\n",
       "      <td>NaN</td>\n",
       "      <td>NaN</td>\n",
       "      <td>NaN</td>\n",
       "    </tr>\n",
       "    <tr>\n",
       "      <th>1</th>\n",
       "      <td>Blizzard Rod</td>\n",
       "      <td>Weapon</td>\n",
       "      <td>Light</td>\n",
       "      <td>NaN</td>\n",
       "      <td>32.0</td>\n",
       "      <td>10.0</td>\n",
       "      <td>NaN</td>\n",
       "      <td>NaN</td>\n",
       "      <td>NaN</td>\n",
       "      <td>NaN</td>\n",
       "      <td>...</td>\n",
       "      <td>A magical rod that can cast extreme cold in a ...</td>\n",
       "      <td>NaN</td>\n",
       "      <td>NaN</td>\n",
       "      <td>NaN</td>\n",
       "      <td>NaN</td>\n",
       "      <td>NaN</td>\n",
       "      <td>NaN</td>\n",
       "      <td>NaN</td>\n",
       "      <td>NaN</td>\n",
       "      <td>NaN</td>\n",
       "    </tr>\n",
       "    <tr>\n",
       "      <th>2</th>\n",
       "      <td>Boko Club</td>\n",
       "      <td>Weapon</td>\n",
       "      <td>Light</td>\n",
       "      <td>NaN</td>\n",
       "      <td>8.0</td>\n",
       "      <td>4.0</td>\n",
       "      <td>NaN</td>\n",
       "      <td>NaN</td>\n",
       "      <td>NaN</td>\n",
       "      <td>NaN</td>\n",
       "      <td>...</td>\n",
       "      <td>A crude Bokoblin club made to clobber small pr...</td>\n",
       "      <td>NaN</td>\n",
       "      <td>NaN</td>\n",
       "      <td>NaN</td>\n",
       "      <td>NaN</td>\n",
       "      <td>NaN</td>\n",
       "      <td>NaN</td>\n",
       "      <td>NaN</td>\n",
       "      <td>NaN</td>\n",
       "      <td>NaN</td>\n",
       "    </tr>\n",
       "    <tr>\n",
       "      <th>3</th>\n",
       "      <td>Bokoblin Arm</td>\n",
       "      <td>Weapon</td>\n",
       "      <td>Light</td>\n",
       "      <td>NaN</td>\n",
       "      <td>5.0</td>\n",
       "      <td>5.0</td>\n",
       "      <td>NaN</td>\n",
       "      <td>NaN</td>\n",
       "      <td>NaN</td>\n",
       "      <td>NaN</td>\n",
       "      <td>...</td>\n",
       "      <td>A skeletal arm that keeps moving even after it...</td>\n",
       "      <td>NaN</td>\n",
       "      <td>NaN</td>\n",
       "      <td>NaN</td>\n",
       "      <td>NaN</td>\n",
       "      <td>NaN</td>\n",
       "      <td>NaN</td>\n",
       "      <td>NaN</td>\n",
       "      <td>NaN</td>\n",
       "      <td>NaN</td>\n",
       "    </tr>\n",
       "    <tr>\n",
       "      <th>4</th>\n",
       "      <td>Boomerang</td>\n",
       "      <td>Weapon</td>\n",
       "      <td>Light</td>\n",
       "      <td>NaN</td>\n",
       "      <td>18.0</td>\n",
       "      <td>8.0</td>\n",
       "      <td>NaN</td>\n",
       "      <td>NaN</td>\n",
       "      <td>NaN</td>\n",
       "      <td>NaN</td>\n",
       "      <td>...</td>\n",
       "      <td>This throwing weapon was originally used by th...</td>\n",
       "      <td>NaN</td>\n",
       "      <td>NaN</td>\n",
       "      <td>NaN</td>\n",
       "      <td>NaN</td>\n",
       "      <td>NaN</td>\n",
       "      <td>NaN</td>\n",
       "      <td>NaN</td>\n",
       "      <td>NaN</td>\n",
       "      <td>NaN</td>\n",
       "    </tr>\n",
       "  </tbody>\n",
       "</table>\n",
       "<p>5 rows × 24 columns</p>\n",
       "</div>"
      ],
      "text/plain": [
       "                  name   class subclass tags  durability  strength  range  \\\n",
       "0  Ancient Short Sword  Weapon    Light  NaN        54.0      40.0    NaN   \n",
       "1         Blizzard Rod  Weapon    Light  NaN        32.0      10.0    NaN   \n",
       "2            Boko Club  Weapon    Light  NaN         8.0       4.0    NaN   \n",
       "3         Bokoblin Arm  Weapon    Light  NaN         5.0       5.0    NaN   \n",
       "4            Boomerang  Weapon    Light  NaN        18.0       8.0    NaN   \n",
       "\n",
       "   arrows  defense  defense_upgrade_lvl1  ...  \\\n",
       "0     NaN      NaN                   NaN  ...   \n",
       "1     NaN      NaN                   NaN  ...   \n",
       "2     NaN      NaN                   NaN  ...   \n",
       "3     NaN      NaN                   NaN  ...   \n",
       "4     NaN      NaN                   NaN  ...   \n",
       "\n",
       "                                         description  selling_price  \\\n",
       "0  The blade of this sword was made using an anci...            NaN   \n",
       "1  A magical rod that can cast extreme cold in a ...            NaN   \n",
       "2  A crude Bokoblin club made to clobber small pr...            NaN   \n",
       "3  A skeletal arm that keeps moving even after it...            NaN   \n",
       "4  This throwing weapon was originally used by th...            NaN   \n",
       "\n",
       "   bonus_set upgrade_1 upgrade_2  upgrade_3 upgrade_4 armor_upgrade  \\\n",
       "0        NaN       NaN       NaN        NaN       NaN           NaN   \n",
       "1        NaN       NaN       NaN        NaN       NaN           NaN   \n",
       "2        NaN       NaN       NaN        NaN       NaN           NaN   \n",
       "3        NaN       NaN       NaN        NaN       NaN           NaN   \n",
       "4        NaN       NaN       NaN        NaN       NaN           NaN   \n",
       "\n",
       "  where_to_find notes  \n",
       "0           NaN   NaN  \n",
       "1           NaN   NaN  \n",
       "2           NaN   NaN  \n",
       "3           NaN   NaN  \n",
       "4           NaN   NaN  \n",
       "\n",
       "[5 rows x 24 columns]"
      ]
     },
     "execution_count": 248,
     "metadata": {},
     "output_type": "execute_result"
    }
   ],
   "source": [
    "stuff = \"Stuff-Grid view.csv\"\n",
    "stuff_file = pd.read_csv(stuff)\n",
    "stuff_df = pd.DataFrame(stuff_file)\n",
    "stuff_df.head()"
   ]
  },
  {
   "cell_type": "code",
   "execution_count": 249,
   "metadata": {},
   "outputs": [],
   "source": [
    "# Remove unecessary columns\n",
    "stuff_df = stuff_df.drop(columns=[\"tags\", \"durability\", \"strength\", \"range\",\n",
    "                    \"arrows\", \"description\", \"selling_price\",\"defense_upgrade_lvl1\",\n",
    "                     \"where_to_find\", \"defense_upgrade_lvl2\", \"defense_upgrade_lvl3\",\n",
    "                     \"upgrade_1\",\"upgrade_2\",\"upgrade_3\", \"upgrade_4\",\"armor_upgrade\",\n",
    "                     \"where_to_find\",\"notes\"])\n",
    "# stuff_df"
   ]
  },
  {
   "cell_type": "code",
   "execution_count": 250,
   "metadata": {},
   "outputs": [],
   "source": [
    "armor_df = pd.DataFrame(sutff_df.loc[stuff_df[\"class\"] == \"Armor\", :])"
   ]
  },
  {
   "cell_type": "code",
   "execution_count": 251,
   "metadata": {},
   "outputs": [],
   "source": [
    "# Fills NaN's with 0 and Nones\n",
    "armor_df['defense_upgrade_lvl4'] = armor_df['defense_upgrade_lvl4'].fillna(0)\n",
    "armor_df[['bonus','bonus_set']] = armor_df[['bonus','bonus_set']].fillna(\"None\")\n",
    "armor_df = armor_df.set_index([\"name\"])"
   ]
  },
  {
   "cell_type": "code",
   "execution_count": 271,
   "metadata": {},
   "outputs": [],
   "source": [
    "# Separate armor subclass\n",
    "body_armor_df = pd.DataFrame(armor_df.loc[armor_df[\"subclass\"] == \"Body\", :]).sort_values(by=\"defense_upgrade_lvl4\", ascending=False)\n",
    "head_armor_df = pd.DataFrame(armor_df.loc[armor_df[\"subclass\"] == \"Head\", :]).sort_values(by=\"defense_upgrade_lvl4\", ascending=False)\n",
    "leg_armor_df = pd.DataFrame(armor_df.loc[armor_df[\"subclass\"] == \"Leg\", :]).sort_values(by=\"defense_upgrade_lvl4\", ascending=False)"
   ]
  },
  {
   "cell_type": "code",
   "execution_count": 272,
   "metadata": {
    "scrolled": true
   },
   "outputs": [
    {
     "data": {
      "text/html": [
       "<div>\n",
       "<style scoped>\n",
       "    .dataframe tbody tr th:only-of-type {\n",
       "        vertical-align: middle;\n",
       "    }\n",
       "\n",
       "    .dataframe tbody tr th {\n",
       "        vertical-align: top;\n",
       "    }\n",
       "\n",
       "    .dataframe thead th {\n",
       "        text-align: right;\n",
       "    }\n",
       "</style>\n",
       "<table border=\"1\" class=\"dataframe\">\n",
       "  <thead>\n",
       "    <tr style=\"text-align: right;\">\n",
       "      <th></th>\n",
       "      <th>class</th>\n",
       "      <th>subclass</th>\n",
       "      <th>defense</th>\n",
       "      <th>defense_upgrade_lvl4</th>\n",
       "      <th>bonus</th>\n",
       "      <th>bonus_set</th>\n",
       "    </tr>\n",
       "    <tr>\n",
       "      <th>name</th>\n",
       "      <th></th>\n",
       "      <th></th>\n",
       "      <th></th>\n",
       "      <th></th>\n",
       "      <th></th>\n",
       "      <th></th>\n",
       "    </tr>\n",
       "  </thead>\n",
       "  <tbody>\n",
       "    <tr>\n",
       "      <th>Champion's Tunic</th>\n",
       "      <td>Armor</td>\n",
       "      <td>Body</td>\n",
       "      <td>5.0</td>\n",
       "      <td>32.0</td>\n",
       "      <td>See Enemy HP</td>\n",
       "      <td>None</td>\n",
       "    </tr>\n",
       "    <tr>\n",
       "      <th>Ancient Cuirass</th>\n",
       "      <td>Armor</td>\n",
       "      <td>Body</td>\n",
       "      <td>4.0</td>\n",
       "      <td>28.0</td>\n",
       "      <td>Guardian Resist</td>\n",
       "      <td>Ancient Proficiency</td>\n",
       "    </tr>\n",
       "    <tr>\n",
       "      <th>Tunic of the Wild</th>\n",
       "      <td>Armor</td>\n",
       "      <td>Body</td>\n",
       "      <td>4.0</td>\n",
       "      <td>28.0</td>\n",
       "      <td>None</td>\n",
       "      <td>Master Sword Beam</td>\n",
       "    </tr>\n",
       "    <tr>\n",
       "      <th>Soldier's Armor</th>\n",
       "      <td>Armor</td>\n",
       "      <td>Body</td>\n",
       "      <td>4.0</td>\n",
       "      <td>24.0</td>\n",
       "      <td>None</td>\n",
       "      <td>None</td>\n",
       "    </tr>\n",
       "    <tr>\n",
       "      <th>Barbarian Armor</th>\n",
       "      <td>Armor</td>\n",
       "      <td>Body</td>\n",
       "      <td>3.0</td>\n",
       "      <td>20.0</td>\n",
       "      <td>Attack</td>\n",
       "      <td>Charge Attack Stamina</td>\n",
       "    </tr>\n",
       "    <tr>\n",
       "      <th>Tunic of the Sky</th>\n",
       "      <td>Armor</td>\n",
       "      <td>Body</td>\n",
       "      <td>3.0</td>\n",
       "      <td>20.0</td>\n",
       "      <td>None</td>\n",
       "      <td>Master Sword Beam</td>\n",
       "    </tr>\n",
       "    <tr>\n",
       "      <th>Tunic of the Wind</th>\n",
       "      <td>Armor</td>\n",
       "      <td>Body</td>\n",
       "      <td>3.0</td>\n",
       "      <td>20.0</td>\n",
       "      <td>None</td>\n",
       "      <td>Master Sword Beam</td>\n",
       "    </tr>\n",
       "    <tr>\n",
       "      <th>Tunic of Twilight</th>\n",
       "      <td>Armor</td>\n",
       "      <td>Body</td>\n",
       "      <td>3.0</td>\n",
       "      <td>20.0</td>\n",
       "      <td>None</td>\n",
       "      <td>Master Sword Beam</td>\n",
       "    </tr>\n",
       "    <tr>\n",
       "      <th>Tunic of Time</th>\n",
       "      <td>Armor</td>\n",
       "      <td>Body</td>\n",
       "      <td>3.0</td>\n",
       "      <td>20.0</td>\n",
       "      <td>None</td>\n",
       "      <td>Master Sword Beam</td>\n",
       "    </tr>\n",
       "    <tr>\n",
       "      <th>Tunic of the Hero</th>\n",
       "      <td>Armor</td>\n",
       "      <td>Body</td>\n",
       "      <td>3.0</td>\n",
       "      <td>20.0</td>\n",
       "      <td>None</td>\n",
       "      <td>Master Sword Beam</td>\n",
       "    </tr>\n",
       "    <tr>\n",
       "      <th>Snowquill Tunic</th>\n",
       "      <td>Armor</td>\n",
       "      <td>Body</td>\n",
       "      <td>3.0</td>\n",
       "      <td>20.0</td>\n",
       "      <td>Cold Resist</td>\n",
       "      <td>Unfreezable</td>\n",
       "    </tr>\n",
       "    <tr>\n",
       "      <th>Rubber Armor</th>\n",
       "      <td>Armor</td>\n",
       "      <td>Body</td>\n",
       "      <td>3.0</td>\n",
       "      <td>20.0</td>\n",
       "      <td>Shock Resist</td>\n",
       "      <td>Unshockable</td>\n",
       "    </tr>\n",
       "    <tr>\n",
       "      <th>Radiant Shirt</th>\n",
       "      <td>Armor</td>\n",
       "      <td>Body</td>\n",
       "      <td>3.0</td>\n",
       "      <td>20.0</td>\n",
       "      <td>Stal Lure</td>\n",
       "      <td>Disguise and Bone Attack</td>\n",
       "    </tr>\n",
       "    <tr>\n",
       "      <th>Hylian Tunic</th>\n",
       "      <td>Armor</td>\n",
       "      <td>Body</td>\n",
       "      <td>3.0</td>\n",
       "      <td>20.0</td>\n",
       "      <td>None</td>\n",
       "      <td>None</td>\n",
       "    </tr>\n",
       "    <tr>\n",
       "      <th>Flamebreaker Armor</th>\n",
       "      <td>Armor</td>\n",
       "      <td>Body</td>\n",
       "      <td>3.0</td>\n",
       "      <td>20.0</td>\n",
       "      <td>Flame Guard</td>\n",
       "      <td>Fireproof</td>\n",
       "    </tr>\n",
       "    <tr>\n",
       "      <th>Fierce Deity Armor</th>\n",
       "      <td>Armor</td>\n",
       "      <td>Body</td>\n",
       "      <td>3.0</td>\n",
       "      <td>20.0</td>\n",
       "      <td>Attack</td>\n",
       "      <td>Charge Attack Stamina</td>\n",
       "    </tr>\n",
       "    <tr>\n",
       "      <th>Desert Voe Spaulder</th>\n",
       "      <td>Armor</td>\n",
       "      <td>Body</td>\n",
       "      <td>3.0</td>\n",
       "      <td>20.0</td>\n",
       "      <td>Heat Resist</td>\n",
       "      <td>Shock Resist</td>\n",
       "    </tr>\n",
       "    <tr>\n",
       "      <th>Climbing Gear</th>\n",
       "      <td>Armor</td>\n",
       "      <td>Body</td>\n",
       "      <td>3.0</td>\n",
       "      <td>20.0</td>\n",
       "      <td>Climb Speed</td>\n",
       "      <td>Climb Stamina</td>\n",
       "    </tr>\n",
       "    <tr>\n",
       "      <th>Zora Armor</th>\n",
       "      <td>Armor</td>\n",
       "      <td>Body</td>\n",
       "      <td>3.0</td>\n",
       "      <td>20.0</td>\n",
       "      <td>Swim Speed</td>\n",
       "      <td>Swim Dash Stamina</td>\n",
       "    </tr>\n",
       "    <tr>\n",
       "      <th>Stealth Chest Guard</th>\n",
       "      <td>Armor</td>\n",
       "      <td>Body</td>\n",
       "      <td>2.0</td>\n",
       "      <td>16.0</td>\n",
       "      <td>Stealth</td>\n",
       "      <td>Night Speed</td>\n",
       "    </tr>\n",
       "    <tr>\n",
       "      <th>Phantom Armor</th>\n",
       "      <td>Armor</td>\n",
       "      <td>Body</td>\n",
       "      <td>8.0</td>\n",
       "      <td>0.0</td>\n",
       "      <td>Attack</td>\n",
       "      <td>None</td>\n",
       "    </tr>\n",
       "    <tr>\n",
       "      <th>Old Shirt</th>\n",
       "      <td>Armor</td>\n",
       "      <td>Body</td>\n",
       "      <td>1.0</td>\n",
       "      <td>0.0</td>\n",
       "      <td>None</td>\n",
       "      <td>None</td>\n",
       "    </tr>\n",
       "    <tr>\n",
       "      <th>Nintendo Switch Shirt</th>\n",
       "      <td>Armor</td>\n",
       "      <td>Body</td>\n",
       "      <td>1.0</td>\n",
       "      <td>0.0</td>\n",
       "      <td>None</td>\n",
       "      <td>None</td>\n",
       "    </tr>\n",
       "    <tr>\n",
       "      <th>Tingle's Shirt</th>\n",
       "      <td>Armor</td>\n",
       "      <td>Body</td>\n",
       "      <td>2.0</td>\n",
       "      <td>0.0</td>\n",
       "      <td>None</td>\n",
       "      <td>None</td>\n",
       "    </tr>\n",
       "    <tr>\n",
       "      <th>Gerudo Top</th>\n",
       "      <td>Armor</td>\n",
       "      <td>Body</td>\n",
       "      <td>1.0</td>\n",
       "      <td>0.0</td>\n",
       "      <td>Gerudo Town Entry</td>\n",
       "      <td>Heat Resist</td>\n",
       "    </tr>\n",
       "    <tr>\n",
       "      <th>Dark Tunic</th>\n",
       "      <td>Armor</td>\n",
       "      <td>Body</td>\n",
       "      <td>3.0</td>\n",
       "      <td>0.0</td>\n",
       "      <td>None</td>\n",
       "      <td>Night Speed</td>\n",
       "    </tr>\n",
       "    <tr>\n",
       "      <th>Warm Doublet</th>\n",
       "      <td>Armor</td>\n",
       "      <td>Body</td>\n",
       "      <td>1.0</td>\n",
       "      <td>0.0</td>\n",
       "      <td>Cold Resist</td>\n",
       "      <td>None</td>\n",
       "    </tr>\n",
       "  </tbody>\n",
       "</table>\n",
       "</div>"
      ],
      "text/plain": [
       "                       class subclass  defense  defense_upgrade_lvl4  \\\n",
       "name                                                                   \n",
       "Champion's Tunic       Armor     Body      5.0                  32.0   \n",
       "Ancient Cuirass        Armor     Body      4.0                  28.0   \n",
       "Tunic of the Wild      Armor     Body      4.0                  28.0   \n",
       "Soldier's Armor        Armor     Body      4.0                  24.0   \n",
       "Barbarian Armor        Armor     Body      3.0                  20.0   \n",
       "Tunic of the Sky       Armor     Body      3.0                  20.0   \n",
       "Tunic of the Wind      Armor     Body      3.0                  20.0   \n",
       "Tunic of Twilight      Armor     Body      3.0                  20.0   \n",
       "Tunic of Time          Armor     Body      3.0                  20.0   \n",
       "Tunic of the Hero      Armor     Body      3.0                  20.0   \n",
       "Snowquill Tunic        Armor     Body      3.0                  20.0   \n",
       "Rubber Armor           Armor     Body      3.0                  20.0   \n",
       "Radiant Shirt          Armor     Body      3.0                  20.0   \n",
       "Hylian Tunic           Armor     Body      3.0                  20.0   \n",
       "Flamebreaker Armor     Armor     Body      3.0                  20.0   \n",
       "Fierce Deity Armor     Armor     Body      3.0                  20.0   \n",
       "Desert Voe Spaulder    Armor     Body      3.0                  20.0   \n",
       "Climbing Gear          Armor     Body      3.0                  20.0   \n",
       "Zora Armor             Armor     Body      3.0                  20.0   \n",
       "Stealth Chest Guard    Armor     Body      2.0                  16.0   \n",
       "Phantom Armor          Armor     Body      8.0                   0.0   \n",
       "Old Shirt              Armor     Body      1.0                   0.0   \n",
       "Nintendo Switch Shirt  Armor     Body      1.0                   0.0   \n",
       "Tingle's Shirt         Armor     Body      2.0                   0.0   \n",
       "Gerudo Top             Armor     Body      1.0                   0.0   \n",
       "Dark Tunic             Armor     Body      3.0                   0.0   \n",
       "Warm Doublet           Armor     Body      1.0                   0.0   \n",
       "\n",
       "                                   bonus                 bonus_set  \n",
       "name                                                                \n",
       "Champion's Tunic            See Enemy HP                      None  \n",
       "Ancient Cuirass          Guardian Resist       Ancient Proficiency  \n",
       "Tunic of the Wild                   None         Master Sword Beam  \n",
       "Soldier's Armor                     None                      None  \n",
       "Barbarian Armor                   Attack     Charge Attack Stamina  \n",
       "Tunic of the Sky                    None         Master Sword Beam  \n",
       "Tunic of the Wind                   None         Master Sword Beam  \n",
       "Tunic of Twilight                   None         Master Sword Beam  \n",
       "Tunic of Time                       None         Master Sword Beam  \n",
       "Tunic of the Hero                   None         Master Sword Beam  \n",
       "Snowquill Tunic              Cold Resist               Unfreezable  \n",
       "Rubber Armor                Shock Resist               Unshockable  \n",
       "Radiant Shirt                  Stal Lure  Disguise and Bone Attack  \n",
       "Hylian Tunic                        None                      None  \n",
       "Flamebreaker Armor           Flame Guard                 Fireproof  \n",
       "Fierce Deity Armor                Attack     Charge Attack Stamina  \n",
       "Desert Voe Spaulder          Heat Resist              Shock Resist  \n",
       "Climbing Gear                Climb Speed             Climb Stamina  \n",
       "Zora Armor                    Swim Speed         Swim Dash Stamina  \n",
       "Stealth Chest Guard              Stealth               Night Speed  \n",
       "Phantom Armor                     Attack                      None  \n",
       "Old Shirt                           None                      None  \n",
       "Nintendo Switch Shirt               None                      None  \n",
       "Tingle's Shirt                      None                      None  \n",
       "Gerudo Top             Gerudo Town Entry               Heat Resist  \n",
       "Dark Tunic                          None               Night Speed  \n",
       "Warm Doublet                 Cold Resist                      None  "
      ]
     },
     "execution_count": 272,
     "metadata": {},
     "output_type": "execute_result"
    }
   ],
   "source": [
    "body_armor_df"
   ]
  },
  {
   "cell_type": "code",
   "execution_count": 283,
   "metadata": {
    "scrolled": false
   },
   "outputs": [
    {
     "data": {
      "image/png": "[encoded data removed]",
      "text/plain": [
       "<Figure size 576x432 with 1 Axes>"
      ]
     },
     "metadata": {
      "needs_background": "light"
     },
     "output_type": "display_data"
    }
   ],
   "source": [
    "# Create stacked bar chart to identify best body armor\n",
    "# for base defense and level 4 defense\n",
    "body_armor_df.sort_values(by=\"defense\", ascending=False)\n",
    "fig, ax = plt.subplots(figsize=(8,6))\n",
    "barlist = ax.bar(body_armor_df.index.values, body_armor_df[\"defense\"], width=0.5);\n",
    "barlist_ii = ax.bar(body_armor_df.index.values, body_armor_df[\"defense_upgrade_lvl4\"], width=0.5, bottom=body_armor_df[\"defense\"] );\n",
    "ax.set_xticks(body_armor_df.index.values);\n",
    "ax.set_xticklabels(body_armor_df.index.values, rotation = 90);\n",
    "ax.set(xlabel='Body Armor',\n",
    "      ylabel=\"Total Defense\",\n",
    "      title=\"Total Defense for Body Armor\");\n",
    "ax.yaxis.grid();"
   ]
  },
  {
   "cell_type": "code",
   "execution_count": 285,
   "metadata": {},
   "outputs": [
    {
     "data": {
      "image/png": "[encoded data removed]",
      "text/plain": [
       "<Figure size 720x432 with 1 Axes>"
      ]
     },
     "metadata": {
      "needs_background": "light"
     },
     "output_type": "display_data"
    }
   ],
   "source": [
    "# Create stacked bar chart to identify best head armor\n",
    "# for base defense and level 4 defense\n",
    "fig, ax = plt.subplots(figsize=(10,6))\n",
    "barlist = ax.bar(head_armor_df.index.values, head_armor_df[\"defense\"], width=0.5);\n",
    "barlist_ii = ax.bar(head_armor_df.index.values, head_armor_df[\"defense_upgrade_lvl4\"], width=0.5, bottom=head_armor_df[\"defense\"] );\n",
    "ax.set_xticks(head_armor_df.index.values);\n",
    "ax.set_xticklabels(head_armor_df.index.values, rotation = 90);\n",
    "ax.set(xlabel='Head Armor',\n",
    "      ylabel=\"Total Defense\",\n",
    "      title=\"Total Defense for Head Armor\");\n",
    "ax.yaxis.grid();"
   ]
  },
  {
   "cell_type": "code",
   "execution_count": 286,
   "metadata": {},
   "outputs": [
    {
     "data": {
      "image/png": "[encoded data removed]",
      "text/plain": [
       "<Figure size 720x432 with 1 Axes>"
      ]
     },
     "metadata": {
      "needs_background": "light"
     },
     "output_type": "display_data"
    }
   ],
   "source": [
    "# Create stacked bar chart to identify best leg armor\n",
    "# for base defense and level 4 defense\n",
    "fig, ax = plt.subplots(figsize=(10,6))\n",
    "barlist = ax.bar(leg_armor_df.index.values, leg_armor_df[\"defense\"], width=0.5);\n",
    "barlist_ii = ax.bar(leg_armor_df.index.values, leg_armor_df[\"defense_upgrade_lvl4\"], width=0.5, bottom=leg_armor_df[\"defense\"] );\n",
    "ax.set_xticks(leg_armor_df.index.values);\n",
    "ax.set_xticklabels(leg_armor_df.index.values, rotation = 90);\n",
    "ax.set(xlabel='Leg Armor',\n",
    "      ylabel=\"Total Defense\",\n",
    "      title=\"Total Defense for Leg Armor\");\n",
    "ax.yaxis.grid();"
   ]
  },
  {
   "cell_type": "code",
   "execution_count": null,
   "metadata": {},
   "outputs": [],
   "source": []
  }
 ],
 "metadata": {
  "kernelspec": {
   "display_name": "Python 3",
   "language": "python",
   "name": "python3"
  },
  "language_info": {
   "codemirror_mode": {
    "name": "ipython",
    "version": 3
   },
   "file_extension": ".py",
   "mimetype": "text/x-python",
   "name": "python",
   "nbconvert_exporter": "python",
   "pygments_lexer": "ipython3",
   "version": "3.8.5"
  }
 },
 "nbformat": 4,
 "nbformat_minor": 4
}
