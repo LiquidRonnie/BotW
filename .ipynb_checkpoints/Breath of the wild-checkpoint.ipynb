{
 "cells": [
  {
   "cell_type": "markdown",
   "metadata": {},
   "source": [
    "# Breath of the Wild"
   ]
  },
  {
   "cell_type": "code",
   "execution_count": 1,
   "metadata": {},
   "outputs": [],
   "source": [
    "# call in dependencies\n",
    "import requests\n",
    "import json\n",
    "import pandas as pd\n",
    "import os\n",
    "from pyrule_compendium import compendium\n",
    "from pprint import pprint\n",
    "import csv\n",
    "import matplotlib.pyplot as plt\n",
    "import csv"
   ]
  },
  {
   "cell_type": "code",
   "execution_count": 2,
   "metadata": {},
   "outputs": [],
   "source": [
    "comp = compendium()\n",
    "\n",
    "#pprint(comp.get_all()[\"equipment\"][0]) # get all entries\n",
    "# print(comp.get_entry(\"silver lynel\")) # get a specific entry with it's name\n",
    "# pprint(comp.get_entry(380)) #get a specific entry with it's ID\n",
    "# pprint(comp.get_category(\"equipment\")) # get all entries in a category\n",
    "# comp.download_entry_image(\"silver lynel\", \"dream_pet.png\") # download entry image"
   ]
  },
  {
   "cell_type": "code",
   "execution_count": 3,
   "metadata": {},
   "outputs": [],
   "source": [
    "# create empty list to store item\n",
    "equip_list = []\n",
    "equip = {}\n",
    "materials = []\n",
    "monsters = []\n",
    "foods = []\n",
    "drops = []"
   ]
  },
  {
   "cell_type": "code",
   "execution_count": 4,
   "metadata": {},
   "outputs": [],
   "source": [
    "# pull category data and assign to a variable, to be used for appending to lists.\n",
    "equipment_json = comp.get_all()[\"equipment\"]\n",
    "materials_json = comp.get_all()[\"materials\"]\n",
    "monsters_json = comp.get_all()[\"monsters\"]\n",
    "creatures_json = comp.get_all()[\"creatures\"][\"food\"]"
   ]
  },
  {
   "cell_type": "markdown",
   "metadata": {},
   "source": [
    "# Get equipment list"
   ]
  },
  {
   "cell_type": "code",
   "execution_count": 5,
   "metadata": {},
   "outputs": [],
   "source": [
    "# create loop to get equipment data store to list.\n",
    "for i in equipment_json:\n",
    "    # create a dictionary for equipment to create DataFrame\n",
    "    equipment_dict = {\n",
    "        \"name\": i['name'],\n",
    "        \"attack\": i['attack'],\n",
    "        \"defense\": i['defense']\n",
    "    }\n",
    "    # add dictionary to list.\n",
    "    equip_list.append(equipment_dict)"
   ]
  },
  {
   "cell_type": "code",
   "execution_count": 6,
   "metadata": {},
   "outputs": [],
   "source": [
    "# Create DataFrame and save to .csv file\n",
    "equipment_df = pd.DataFrame(equip_list).sort_values(by=\"name\")\n",
    "equipment_df.to_csv(\"BotW_equip_stats.csv\", index=False)"
   ]
  },
  {
   "cell_type": "markdown",
   "metadata": {},
   "source": [
    "# Get materials and foods list"
   ]
  },
  {
   "cell_type": "code",
   "execution_count": 7,
   "metadata": {},
   "outputs": [],
   "source": [
    "# get materials and add to list\n",
    "for i in materials_json:\n",
    "    # create a dictionary for materials to create DataFrame)\n",
    "    material_dict = {\n",
    "        \"name\": i['name'],\n",
    "        \"hearts_recovered\": i['hearts_recovered'],\n",
    "        \"cooking_effect\": i['cooking_effect'],\n",
    "    }\n",
    "     # add dictionary to list.\n",
    "    materials.append(material_dict)"
   ]
  },
  {
   "cell_type": "code",
   "execution_count": 8,
   "metadata": {},
   "outputs": [],
   "source": [
    "# Create DataFrame from dictionary\n",
    "materials_df = pd.DataFrame(materials)"
   ]
  },
  {
   "cell_type": "code",
   "execution_count": 9,
   "metadata": {},
   "outputs": [],
   "source": [
    "# add a 'none' to the cooking_effect that show a blank\n",
    "materials_df[\"cooking_effect\"] = ['none' if x == '' else x for x in materials_df['cooking_effect']]"
   ]
  },
  {
   "cell_type": "code",
   "execution_count": 10,
   "metadata": {},
   "outputs": [],
   "source": [
    "# Preivew DataFrame\n",
    "#materials_df"
   ]
  },
  {
   "cell_type": "code",
   "execution_count": 11,
   "metadata": {},
   "outputs": [],
   "source": [
    "# save to .csv file\n",
    "materials_df.to_csv(\"BotW_material_stats.csv\", index=False)"
   ]
  },
  {
   "cell_type": "code",
   "execution_count": 12,
   "metadata": {},
   "outputs": [],
   "source": [
    "# # union materials df and foods df into a new DataFrame\n",
    "# consumables_df = pd.concat([materials_df, foods_df]).reset_index(drop=True)"
   ]
  },
  {
   "cell_type": "code",
   "execution_count": 13,
   "metadata": {},
   "outputs": [],
   "source": [
    "# consumables_df = consumables_df.sort_values(by=\"hearts_recovered\", ascending=False)"
   ]
  },
  {
   "cell_type": "code",
   "execution_count": 14,
   "metadata": {},
   "outputs": [],
   "source": [
    "# # Save consumables to a csv file\n",
    "# consumables_df.to_csv(\"BotW_consumables.csv\", index=False)"
   ]
  },
  {
   "cell_type": "markdown",
   "metadata": {},
   "source": [
    "# Let's get cooking!"
   ]
  },
  {
   "cell_type": "code",
   "execution_count": 15,
   "metadata": {},
   "outputs": [],
   "source": [
    "# get foods and add to list\n",
    "for i in creatures_json:\n",
    "    # create a dictionary for foods to create DataFrame)\n",
    "    food_dict = {\n",
    "        \"name\": i['name'],\n",
    "        \"hearts_recovered\": i['hearts_recovered'],\n",
    "        \"cooking_effect\": i['cooking_effect'],\n",
    "    }\n",
    "    # add dictionary to list.\n",
    "    foods.append(food_dict)"
   ]
  },
  {
   "cell_type": "code",
   "execution_count": 16,
   "metadata": {},
   "outputs": [],
   "source": [
    "# Create DataFrame\n",
    "# add a 'none' to the foods that show a blank\n",
    "foods_df = pd.DataFrame(foods).sort_values(by=\"name\")\n",
    "foods_df[\"cooking_effect\"] = ['none' if x == '' else x for x in foods_df['cooking_effect']]"
   ]
  },
  {
   "cell_type": "code",
   "execution_count": 17,
   "metadata": {},
   "outputs": [],
   "source": [
    "# save to .csv file\n",
    "foods_df.to_csv(\"BotW_food_stats.csv\", index=False)"
   ]
  },
  {
   "cell_type": "code",
   "execution_count": 18,
   "metadata": {},
   "outputs": [],
   "source": [
    "# union materials df and foods df into a new DataFrame\n",
    "consumables_df = pd.concat([materials_df, foods_df]).reset_index(drop=True)"
   ]
  },
  {
   "cell_type": "code",
   "execution_count": 19,
   "metadata": {},
   "outputs": [],
   "source": [
    "consumables_df = consumables_df.sort_values(by=\"hearts_recovered\", ascending=False)"
   ]
  },
  {
   "cell_type": "code",
   "execution_count": 20,
   "metadata": {},
   "outputs": [],
   "source": [
    "# Save consumables to a csv file\n",
    "consumables_df.to_csv(\"BotW_consumables.csv\", index=False)"
   ]
  },
  {
   "cell_type": "markdown",
   "metadata": {},
   "source": [
    "## Hearts help you stay alive\n",
    "## These tasty ingredients grant you hearts"
   ]
  },
  {
   "cell_type": "code",
   "execution_count": 21,
   "metadata": {},
   "outputs": [],
   "source": [
    "# obtain consumables DF\n",
    "consumables_df\n",
    "# create hearts Df for barchart\n",
    "hearts_df = pd.DataFrame(consumables_df)\n",
    "# drop the items that do not give you hearts\n",
    "hearts_df = hearts_df[hearts_df['hearts_recovered'] !=0]\n",
    "hearts_df = hearts_df.sort_values(by=\"hearts_recovered\", ascending=True)\n",
    "# set variables to hold name and\n"
   ]
  },
  {
   "cell_type": "code",
   "execution_count": 50,
   "metadata": {},
   "outputs": [
    {
     "data": {
      "image/png": "[encoded data removed]",
      "text/plain": [
       "<Figure size 720x864 with 1 Axes>"
      ]
     },
     "metadata": {
      "needs_background": "light"
     },
     "output_type": "display_data"
    }
   ],
   "source": [
    "fig2, ax2 = plt.subplots()\n",
    "hearts_df.plot(kind=\"barh\", x=\"name\", y =\"hearts_recovered\",figsize=(10,12), ax=ax2, edgecolor='darkgreen',color='lightgreen',\n",
    "                  title=\"Which Ingredient is Best?\",\n",
    "                  xlabel=\"Food\",\n",
    "                  ylabel=\"Hearts Given\");\n",
    "ax2.yaxis.grid()\n",
    "plt.savefig(\"../BotW/images/Ingredients.png\")"
   ]
  },
  {
   "cell_type": "markdown",
   "metadata": {},
   "source": [
    "## Cooked meals grant extra hearts and bonus effects"
   ]
  },
  {
   "cell_type": "code",
   "execution_count": 23,
   "metadata": {},
   "outputs": [
    {
     "data": {
      "text/html": [
       "<div>\n",
       "<style scoped>\n",
       "    .dataframe tbody tr th:only-of-type {\n",
       "        vertical-align: middle;\n",
       "    }\n",
       "\n",
       "    .dataframe tbody tr th {\n",
       "        vertical-align: top;\n",
       "    }\n",
       "\n",
       "    .dataframe thead th {\n",
       "        text-align: right;\n",
       "    }\n",
       "</style>\n",
       "<table border=\"1\" class=\"dataframe\">\n",
       "  <thead>\n",
       "    <tr style=\"text-align: right;\">\n",
       "      <th></th>\n",
       "      <th>name</th>\n",
       "      <th>hearts_recovered</th>\n",
       "      <th>cooking_effect</th>\n",
       "    </tr>\n",
       "  </thead>\n",
       "  <tbody>\n",
       "    <tr>\n",
       "      <th>18</th>\n",
       "      <td>hearty radish</td>\n",
       "      <td>20.5</td>\n",
       "      <td>extra hearts</td>\n",
       "    </tr>\n",
       "    <tr>\n",
       "      <th>44</th>\n",
       "      <td>fairy</td>\n",
       "      <td>5.0</td>\n",
       "      <td>none</td>\n",
       "    </tr>\n",
       "    <tr>\n",
       "      <th>27</th>\n",
       "      <td>big hearty radish</td>\n",
       "      <td>4.0</td>\n",
       "      <td>extra hearts</td>\n",
       "    </tr>\n",
       "    <tr>\n",
       "      <th>49</th>\n",
       "      <td>hearty salmon</td>\n",
       "      <td>4.0</td>\n",
       "      <td>extra hearts</td>\n",
       "    </tr>\n",
       "    <tr>\n",
       "      <th>28</th>\n",
       "      <td>big hearty truffle</td>\n",
       "      <td>3.0</td>\n",
       "      <td>extra hearts</td>\n",
       "    </tr>\n",
       "    <tr>\n",
       "      <th>...</th>\n",
       "      <td>...</td>\n",
       "      <td>...</td>\n",
       "      <td>...</td>\n",
       "    </tr>\n",
       "    <tr>\n",
       "      <th>9</th>\n",
       "      <td>blue nightshade</td>\n",
       "      <td>0.0</td>\n",
       "      <td>stealth up</td>\n",
       "    </tr>\n",
       "    <tr>\n",
       "      <th>7</th>\n",
       "      <td>mighty thistle</td>\n",
       "      <td>0.0</td>\n",
       "      <td>attack up</td>\n",
       "    </tr>\n",
       "    <tr>\n",
       "      <th>6</th>\n",
       "      <td>warm safflina</td>\n",
       "      <td>0.0</td>\n",
       "      <td>cold resistance</td>\n",
       "    </tr>\n",
       "    <tr>\n",
       "      <th>2</th>\n",
       "      <td>swift violet</td>\n",
       "      <td>0.0</td>\n",
       "      <td>speed up</td>\n",
       "    </tr>\n",
       "    <tr>\n",
       "      <th>71</th>\n",
       "      <td>winterwing butterfly</td>\n",
       "      <td>0.0</td>\n",
       "      <td>heat resistance</td>\n",
       "    </tr>\n",
       "  </tbody>\n",
       "</table>\n",
       "<p>72 rows × 3 columns</p>\n",
       "</div>"
      ],
      "text/plain": [
       "                    name  hearts_recovered   cooking_effect\n",
       "18         hearty radish              20.5     extra hearts\n",
       "44                 fairy               5.0             none\n",
       "27     big hearty radish               4.0     extra hearts\n",
       "49         hearty salmon               4.0     extra hearts\n",
       "28    big hearty truffle               3.0     extra hearts\n",
       "..                   ...               ...              ...\n",
       "9        blue nightshade               0.0       stealth up\n",
       "7         mighty thistle               0.0        attack up\n",
       "6          warm safflina               0.0  cold resistance\n",
       "2           swift violet               0.0         speed up\n",
       "71  winterwing butterfly               0.0  heat resistance\n",
       "\n",
       "[72 rows x 3 columns]"
      ]
     },
     "execution_count": 23,
     "metadata": {},
     "output_type": "execute_result"
    }
   ],
   "source": [
    "# Create DataFrame for cooking effects\n",
    "cooking_df = pd.DataFrame(consumables_df)\n",
    "# remove those that don't give a cooking effect\n",
    "cooking_df"
   ]
  },
  {
   "cell_type": "code",
   "execution_count": 51,
   "metadata": {},
   "outputs": [
    {
     "name": "stdout",
     "output_type": "stream",
     "text": [
      "there are a total of 9 different types of consumales that give you extra hearts\n",
      "this is good for survival and very beneficial for cooking!\n"
     ]
    },
    {
     "data": {
      "image/png": "[encoded data removed]",
      "text/plain": [
       "<Figure size 720x432 with 1 Axes>"
      ]
     },
     "metadata": {
      "needs_background": "light"
     },
     "output_type": "display_data"
    }
   ],
   "source": [
    "# Create a bar chart to capture the value counts of each cooking effect\n",
    "fig4, ax4 = plt.subplots()\n",
    "x = cooking_df['cooking_effect'].unique()\n",
    "y = cooking_df['cooking_effect'].value_counts()\n",
    "# create a new df to hold the value counts of each cooking effect\n",
    "effect_count_df = pd.DataFrame({\"cooking_effect\":x, \"total amount\":y})\n",
    "effect_count_df.plot(kind=\"bar\",figsize=(10,6), ax=ax4, linewidth='1.5', edgecolor='darkgreen',color='lightgreen', \n",
    "                  title=\"What is the Best Bonus?\",\n",
    "                  xlabel=\"Cooking Effect\",\n",
    "                  ylabel=\"Hearts Given\");\n",
    "print(f\"there are a total of {cooking_df['cooking_effect'].value_counts().max()} different types of consumales that give you extra hearts\")\n",
    "print(\"this is good for survival and very beneficial for cooking!\")\n",
    "ax4.xaxis.grid()\n",
    "plt.savefig(\"../BotW/images/cooking_bonus.png\")"
   ]
  },
  {
   "cell_type": "code",
   "execution_count": 52,
   "metadata": {},
   "outputs": [],
   "source": [
    "#Call food data from second source\n",
    "food_grid =(\"Food-Grid view.csv\")\n",
    "food_grid_df = pd.read_csv(food_grid)\n",
    "#clear unecessary columns\n",
    "Food_Grid_df=food_grid_df.drop(columns=['class', 'subclass', 'description', 'ingredients', 'effect']).dropna()\n",
    "#Food_Grid_df"
   ]
  },
  {
   "cell_type": "code",
   "execution_count": 53,
   "metadata": {},
   "outputs": [
    {
     "data": {
      "text/html": [
       "<div>\n",
       "<style scoped>\n",
       "    .dataframe tbody tr th:only-of-type {\n",
       "        vertical-align: middle;\n",
       "    }\n",
       "\n",
       "    .dataframe tbody tr th {\n",
       "        vertical-align: top;\n",
       "    }\n",
       "\n",
       "    .dataframe thead th {\n",
       "        text-align: right;\n",
       "    }\n",
       "</style>\n",
       "<table border=\"1\" class=\"dataframe\">\n",
       "  <thead>\n",
       "    <tr style=\"text-align: right;\">\n",
       "      <th></th>\n",
       "      <th>hp</th>\n",
       "    </tr>\n",
       "    <tr>\n",
       "      <th>name</th>\n",
       "      <th></th>\n",
       "    </tr>\n",
       "  </thead>\n",
       "  <tbody>\n",
       "    <tr>\n",
       "      <th>Roasted Armoranth</th>\n",
       "      <td>0.50</td>\n",
       "    </tr>\n",
       "    <tr>\n",
       "      <th>Roasted Acorn</th>\n",
       "      <td>0.50</td>\n",
       "    </tr>\n",
       "    <tr>\n",
       "      <th>Roasted Tree Nut</th>\n",
       "      <td>0.50</td>\n",
       "    </tr>\n",
       "    <tr>\n",
       "      <th>Roasted Mighty Thistle</th>\n",
       "      <td>0.50</td>\n",
       "    </tr>\n",
       "    <tr>\n",
       "      <th>Toasty Zapshroom</th>\n",
       "      <td>0.75</td>\n",
       "    </tr>\n",
       "    <tr>\n",
       "      <th>...</th>\n",
       "      <td>...</td>\n",
       "    </tr>\n",
       "    <tr>\n",
       "      <th>Seared Gourmet Steak</th>\n",
       "      <td>4.50</td>\n",
       "    </tr>\n",
       "    <tr>\n",
       "      <th>Roasted Whole Bird</th>\n",
       "      <td>4.50</td>\n",
       "    </tr>\n",
       "    <tr>\n",
       "      <th>Blueshell Escargot</th>\n",
       "      <td>4.50</td>\n",
       "    </tr>\n",
       "    <tr>\n",
       "      <th>Roasted Hearty Durian</th>\n",
       "      <td>4.50</td>\n",
       "    </tr>\n",
       "    <tr>\n",
       "      <th>Roasted Big Radish</th>\n",
       "      <td>6.00</td>\n",
       "    </tr>\n",
       "  </tbody>\n",
       "</table>\n",
       "<p>61 rows × 1 columns</p>\n",
       "</div>"
      ],
      "text/plain": [
       "                          hp\n",
       "name                        \n",
       "Roasted Armoranth       0.50\n",
       "Roasted Acorn           0.50\n",
       "Roasted Tree Nut        0.50\n",
       "Roasted Mighty Thistle  0.50\n",
       "Toasty Zapshroom        0.75\n",
       "...                      ...\n",
       "Seared Gourmet Steak    4.50\n",
       "Roasted Whole Bird      4.50\n",
       "Blueshell Escargot      4.50\n",
       "Roasted Hearty Durian   4.50\n",
       "Roasted Big Radish      6.00\n",
       "\n",
       "[61 rows x 1 columns]"
      ]
     },
     "execution_count": 53,
     "metadata": {},
     "output_type": "execute_result"
    }
   ],
   "source": [
    "#Manipulate Data to suit our needs \n",
    "FoodGrid_df = Food_Grid_df[[\"hp\", \"name\"]]\n",
    "Food_Grid_df.reset_index(drop=True, inplace=True)\n",
    "FoodGrid_df=FoodGrid_df.sort_values(by=\"hp\", ascending=True)\n",
    "FoodGrid_df=FoodGrid_df.set_index(\"name\")\n",
    "FoodGrid_df"
   ]
  },
  {
   "cell_type": "code",
   "execution_count": 54,
   "metadata": {},
   "outputs": [
    {
     "data": {
      "image/png": "[encoded data removed]",
      "text/plain": [
       "<Figure size 720x864 with 1 Axes>"
      ]
     },
     "metadata": {
      "needs_background": "light"
     },
     "output_type": "display_data"
    }
   ],
   "source": [
    "#Show info in graph form\n",
    "fig, ax = plt.subplots()\n",
    "FoodGrid_df.plot(kind=\"barh\", figsize=(10,12), ax=ax, edgecolor='darkgreen',color='lightgreen',\n",
    "                  title=\"Which recipe gives the most Hearts\",\n",
    "                  xlabel=\"Recipe\",\n",
    "                  ylabel=\"Hearts Gained\");\n",
    "fig.tight_layout();\n",
    "plt.savefig(\"../BotW/images/Recipe_bar.png\")"
   ]
  },
  {
   "cell_type": "markdown",
   "metadata": {},
   "source": [
    "# Get monster list ID"
   ]
  },
  {
   "cell_type": "code",
   "execution_count": 55,
   "metadata": {},
   "outputs": [],
   "source": [
    "# get foods and add to list\n",
    "for i in monsters_json:\n",
    "    # create a dictionary for monsters to create DataFrame)\n",
    "    monster_dict = {\n",
    "        \"name\": i['name'],\n",
    "        \"id\": i['id'],\n",
    "    }\n",
    "    # add dictionary to list.\n",
    "    monsters.append(monster_dict)"
   ]
  },
  {
   "cell_type": "code",
   "execution_count": 56,
   "metadata": {},
   "outputs": [
    {
     "data": {
      "text/html": [
       "<div>\n",
       "<style scoped>\n",
       "    .dataframe tbody tr th:only-of-type {\n",
       "        vertical-align: middle;\n",
       "    }\n",
       "\n",
       "    .dataframe tbody tr th {\n",
       "        vertical-align: top;\n",
       "    }\n",
       "\n",
       "    .dataframe thead th {\n",
       "        text-align: right;\n",
       "    }\n",
       "</style>\n",
       "<table border=\"1\" class=\"dataframe\">\n",
       "  <thead>\n",
       "    <tr style=\"text-align: right;\">\n",
       "      <th></th>\n",
       "      <th>name</th>\n",
       "    </tr>\n",
       "    <tr>\n",
       "      <th>id</th>\n",
       "      <th></th>\n",
       "    </tr>\n",
       "  </thead>\n",
       "  <tbody>\n",
       "    <tr>\n",
       "      <th>105</th>\n",
       "      <td>black bokoblin</td>\n",
       "    </tr>\n",
       "    <tr>\n",
       "      <th>105</th>\n",
       "      <td>black bokoblin</td>\n",
       "    </tr>\n",
       "    <tr>\n",
       "      <th>149</th>\n",
       "      <td>black hinox</td>\n",
       "    </tr>\n",
       "    <tr>\n",
       "      <th>149</th>\n",
       "      <td>black hinox</td>\n",
       "    </tr>\n",
       "    <tr>\n",
       "      <th>115</th>\n",
       "      <td>black lizalfos</td>\n",
       "    </tr>\n",
       "    <tr>\n",
       "      <th>...</th>\n",
       "      <td>...</td>\n",
       "    </tr>\n",
       "    <tr>\n",
       "      <th>162</th>\n",
       "      <td>windblight ganon</td>\n",
       "    </tr>\n",
       "    <tr>\n",
       "      <th>135</th>\n",
       "      <td>yiga blademaster</td>\n",
       "    </tr>\n",
       "    <tr>\n",
       "      <th>135</th>\n",
       "      <td>yiga blademaster</td>\n",
       "    </tr>\n",
       "    <tr>\n",
       "      <th>134</th>\n",
       "      <td>yiga footsoldier</td>\n",
       "    </tr>\n",
       "    <tr>\n",
       "      <th>134</th>\n",
       "      <td>yiga footsoldier</td>\n",
       "    </tr>\n",
       "  </tbody>\n",
       "</table>\n",
       "<p>162 rows × 1 columns</p>\n",
       "</div>"
      ],
      "text/plain": [
       "                 name\n",
       "id                   \n",
       "105    black bokoblin\n",
       "105    black bokoblin\n",
       "149       black hinox\n",
       "149       black hinox\n",
       "115    black lizalfos\n",
       "..                ...\n",
       "162  windblight ganon\n",
       "135  yiga blademaster\n",
       "135  yiga blademaster\n",
       "134  yiga footsoldier\n",
       "134  yiga footsoldier\n",
       "\n",
       "[162 rows x 1 columns]"
      ]
     },
     "execution_count": 56,
     "metadata": {},
     "output_type": "execute_result"
    }
   ],
   "source": [
    "# Create DataFrame and save to .csv file\n",
    "monsters_df = monsters_df = pd.DataFrame(monsters).sort_values(by=\"name\")\n",
    "monsters_df.to_csv(\"BotW_monster_list.csv\", index=False)\n",
    "monsters_df = monsters_df.set_index(\"id\")\n",
    "monsters_df"
   ]
  },
  {
   "cell_type": "markdown",
   "metadata": {},
   "source": [
    "# Get drops ID\n"
   ]
  },
  {
   "cell_type": "code",
   "execution_count": 57,
   "metadata": {},
   "outputs": [
    {
     "data": {
      "text/html": [
       "<div>\n",
       "<style scoped>\n",
       "    .dataframe tbody tr th:only-of-type {\n",
       "        vertical-align: middle;\n",
       "    }\n",
       "\n",
       "    .dataframe tbody tr th {\n",
       "        vertical-align: top;\n",
       "    }\n",
       "\n",
       "    .dataframe thead th {\n",
       "        text-align: right;\n",
       "    }\n",
       "</style>\n",
       "<table border=\"1\" class=\"dataframe\">\n",
       "  <thead>\n",
       "    <tr style=\"text-align: right;\">\n",
       "      <th></th>\n",
       "      <th>drops</th>\n",
       "    </tr>\n",
       "    <tr>\n",
       "      <th>id</th>\n",
       "      <th></th>\n",
       "    </tr>\n",
       "  </thead>\n",
       "  <tbody>\n",
       "    <tr>\n",
       "      <th>94</th>\n",
       "      <td>octorok tentacle</td>\n",
       "    </tr>\n",
       "    <tr>\n",
       "      <th>94</th>\n",
       "      <td>octo balloon</td>\n",
       "    </tr>\n",
       "    <tr>\n",
       "      <th>94</th>\n",
       "      <td>octorok eyeball</td>\n",
       "    </tr>\n",
       "    <tr>\n",
       "      <th>108</th>\n",
       "      <td>moblin horn</td>\n",
       "    </tr>\n",
       "    <tr>\n",
       "      <th>108</th>\n",
       "      <td>moblin fang</td>\n",
       "    </tr>\n",
       "    <tr>\n",
       "      <th>...</th>\n",
       "      <td>...</td>\n",
       "    </tr>\n",
       "    <tr>\n",
       "      <th>96</th>\n",
       "      <td>purple rupee</td>\n",
       "    </tr>\n",
       "    <tr>\n",
       "      <th>96</th>\n",
       "      <td>silver rupee</td>\n",
       "    </tr>\n",
       "    <tr>\n",
       "      <th>92</th>\n",
       "      <td>octorok tentacle</td>\n",
       "    </tr>\n",
       "    <tr>\n",
       "      <th>92</th>\n",
       "      <td>octo balloon</td>\n",
       "    </tr>\n",
       "    <tr>\n",
       "      <th>92</th>\n",
       "      <td>octorok eyeball</td>\n",
       "    </tr>\n",
       "  </tbody>\n",
       "</table>\n",
       "<p>259 rows × 1 columns</p>\n",
       "</div>"
      ],
      "text/plain": [
       "                drops\n",
       "id                   \n",
       "94   octorok tentacle\n",
       "94       octo balloon\n",
       "94    octorok eyeball\n",
       "108       moblin horn\n",
       "108       moblin fang\n",
       "..                ...\n",
       "96       purple rupee\n",
       "96       silver rupee\n",
       "92   octorok tentacle\n",
       "92       octo balloon\n",
       "92    octorok eyeball\n",
       "\n",
       "[259 rows x 1 columns]"
      ]
     },
     "execution_count": 57,
     "metadata": {},
     "output_type": "execute_result"
    }
   ],
   "source": [
    "# Iterate through json and check if the value that I represents is an empty list\n",
    "# If it is set the drops variable to None otherwise append the drop information and create a DF\n",
    "drops = []\n",
    "for i in monsters_json:\n",
    "    if i['drops'] == []:\n",
    "        i['drops'] = None\n",
    "    else:\n",
    "        drops_dict = {\n",
    "        \"drops\": i['drops'],\n",
    "        \"id\": i['id'],\n",
    "        }\n",
    "    drops.append(drops_dict)\n",
    "drops_df = pd.DataFrame(drops)\n",
    "# set the index of the dataframe to the id (will be handy when you split your entries next)\n",
    "drops_df.set_index(drops_df['id'],inplace=True)\n",
    "# split each item in  the df['drops'] and send it to a new row. Setting the index above allows us to \n",
    "# keep the index intact when we split them. \n",
    "drops_df = drops_df.explode('drops')\n",
    "# Filter the dataframe to keep only the column that we need\n",
    "drops_df[['drops']]"
   ]
  },
  {
   "cell_type": "code",
   "execution_count": 58,
   "metadata": {},
   "outputs": [],
   "source": [
    "drops_df.to_csv(\"BotW_drop.csv\")"
   ]
  },
  {
   "cell_type": "code",
   "execution_count": 59,
   "metadata": {},
   "outputs": [],
   "source": [
    "# create dataframe to hold drop counts\n",
    "drops_count_df = pd.DataFrame(drops_df.index.value_counts())\n",
    "# Renme id column to 'drop_counts'\n",
    "drops_count_df = drops_count_df.rename(columns={\"id\":\"drop_count\"})"
   ]
  },
  {
   "cell_type": "code",
   "execution_count": 60,
   "metadata": {},
   "outputs": [
    {
     "data": {
      "text/html": [
       "<div>\n",
       "<style scoped>\n",
       "    .dataframe tbody tr th:only-of-type {\n",
       "        vertical-align: middle;\n",
       "    }\n",
       "\n",
       "    .dataframe tbody tr th {\n",
       "        vertical-align: top;\n",
       "    }\n",
       "\n",
       "    .dataframe thead th {\n",
       "        text-align: right;\n",
       "    }\n",
       "</style>\n",
       "<table border=\"1\" class=\"dataframe\">\n",
       "  <thead>\n",
       "    <tr style=\"text-align: right;\">\n",
       "      <th></th>\n",
       "      <th>drop_count</th>\n",
       "    </tr>\n",
       "    <tr>\n",
       "      <th>id</th>\n",
       "      <th></th>\n",
       "    </tr>\n",
       "  </thead>\n",
       "  <tbody>\n",
       "    <tr>\n",
       "      <th>148</th>\n",
       "      <td>12</td>\n",
       "    </tr>\n",
       "    <tr>\n",
       "      <th>147</th>\n",
       "      <td>10</td>\n",
       "    </tr>\n",
       "    <tr>\n",
       "      <th>107</th>\n",
       "      <td>9</td>\n",
       "    </tr>\n",
       "    <tr>\n",
       "      <th>112</th>\n",
       "      <td>9</td>\n",
       "    </tr>\n",
       "    <tr>\n",
       "      <th>120</th>\n",
       "      <td>9</td>\n",
       "    </tr>\n",
       "    <tr>\n",
       "      <th>...</th>\n",
       "      <td>...</td>\n",
       "    </tr>\n",
       "    <tr>\n",
       "      <th>150</th>\n",
       "      <td>1</td>\n",
       "    </tr>\n",
       "    <tr>\n",
       "      <th>146</th>\n",
       "      <td>1</td>\n",
       "    </tr>\n",
       "    <tr>\n",
       "      <th>137</th>\n",
       "      <td>1</td>\n",
       "    </tr>\n",
       "    <tr>\n",
       "      <th>136</th>\n",
       "      <td>1</td>\n",
       "    </tr>\n",
       "    <tr>\n",
       "      <th>84</th>\n",
       "      <td>1</td>\n",
       "    </tr>\n",
       "  </tbody>\n",
       "</table>\n",
       "<p>81 rows × 1 columns</p>\n",
       "</div>"
      ],
      "text/plain": [
       "     drop_count\n",
       "id             \n",
       "148          12\n",
       "147          10\n",
       "107           9\n",
       "112           9\n",
       "120           9\n",
       "..          ...\n",
       "150           1\n",
       "146           1\n",
       "137           1\n",
       "136           1\n",
       "84            1\n",
       "\n",
       "[81 rows x 1 columns]"
      ]
     },
     "execution_count": 60,
     "metadata": {},
     "output_type": "execute_result"
    }
   ],
   "source": [
    "# rename index to 'id'\n",
    "drops_count_df.index.name = \"id\"\n",
    "drops_count_df"
   ]
  },
  {
   "cell_type": "code",
   "execution_count": 61,
   "metadata": {},
   "outputs": [],
   "source": [
    "# Merge drop_counts_df and mosnters_df to obtain total count of drops\n",
    "# for a monster\n",
    "calamity_df = pd.merge(monsters_df, drops_count_df, how=\"outer\", on=\"id\")\n",
    "calamity_df = calamity_df.sort_values(by=\"drop_count\", ascending=False)"
   ]
  },
  {
   "cell_type": "code",
   "execution_count": 62,
   "metadata": {},
   "outputs": [],
   "source": [
    "# Save new DataFrame to csv file\n",
    "calamity_df\n",
    "calamity_df.to_csv(\"BotW_drop_counts.csv\")"
   ]
  },
  {
   "cell_type": "markdown",
   "metadata": {},
   "source": [
    "## Let's get into the game details\n",
    "\n",
    "## how many defense weapons are there and which is the best one?"
   ]
  },
  {
   "cell_type": "code",
   "execution_count": 63,
   "metadata": {},
   "outputs": [
    {
     "data": {
      "text/html": [
       "<div>\n",
       "<style scoped>\n",
       "    .dataframe tbody tr th:only-of-type {\n",
       "        vertical-align: middle;\n",
       "    }\n",
       "\n",
       "    .dataframe tbody tr th {\n",
       "        vertical-align: top;\n",
       "    }\n",
       "\n",
       "    .dataframe thead th {\n",
       "        text-align: right;\n",
       "    }\n",
       "</style>\n",
       "<table border=\"1\" class=\"dataframe\">\n",
       "  <thead>\n",
       "    <tr style=\"text-align: right;\">\n",
       "      <th></th>\n",
       "      <th>name</th>\n",
       "      <th>attack</th>\n",
       "      <th>defense</th>\n",
       "    </tr>\n",
       "  </thead>\n",
       "  <tbody>\n",
       "    <tr>\n",
       "      <th>13</th>\n",
       "      <td>hylian shield</td>\n",
       "      <td>0.0</td>\n",
       "      <td>90.0</td>\n",
       "    </tr>\n",
       "    <tr>\n",
       "      <th>77</th>\n",
       "      <td>royal guard's shield</td>\n",
       "      <td>0.0</td>\n",
       "      <td>70.0</td>\n",
       "    </tr>\n",
       "    <tr>\n",
       "      <th>8</th>\n",
       "      <td>ancient shield</td>\n",
       "      <td>0.0</td>\n",
       "      <td>70.0</td>\n",
       "    </tr>\n",
       "    <tr>\n",
       "      <th>62</th>\n",
       "      <td>savage lynel shield</td>\n",
       "      <td>0.0</td>\n",
       "      <td>62.0</td>\n",
       "    </tr>\n",
       "    <tr>\n",
       "      <th>97</th>\n",
       "      <td>royal shield</td>\n",
       "      <td>0.0</td>\n",
       "      <td>55.0</td>\n",
       "    </tr>\n",
       "    <tr>\n",
       "      <th>...</th>\n",
       "      <td>...</td>\n",
       "      <td>...</td>\n",
       "      <td>...</td>\n",
       "    </tr>\n",
       "    <tr>\n",
       "      <th>149</th>\n",
       "      <td>spiked moblin spear</td>\n",
       "      <td>9.0</td>\n",
       "      <td>0.0</td>\n",
       "    </tr>\n",
       "    <tr>\n",
       "      <th>55</th>\n",
       "      <td>scimitar of the seven</td>\n",
       "      <td>32.0</td>\n",
       "      <td>0.0</td>\n",
       "    </tr>\n",
       "    <tr>\n",
       "      <th>173</th>\n",
       "      <td>serpentine spear</td>\n",
       "      <td>12.0</td>\n",
       "      <td>0.0</td>\n",
       "    </tr>\n",
       "    <tr>\n",
       "      <th>156</th>\n",
       "      <td>shock arrow</td>\n",
       "      <td>0.0</td>\n",
       "      <td>0.0</td>\n",
       "    </tr>\n",
       "    <tr>\n",
       "      <th>179</th>\n",
       "      <td>zora sword</td>\n",
       "      <td>15.0</td>\n",
       "      <td>0.0</td>\n",
       "    </tr>\n",
       "  </tbody>\n",
       "</table>\n",
       "<p>185 rows × 3 columns</p>\n",
       "</div>"
      ],
      "text/plain": [
       "                      name  attack  defense\n",
       "13           hylian shield     0.0     90.0\n",
       "77    royal guard's shield     0.0     70.0\n",
       "8           ancient shield     0.0     70.0\n",
       "62     savage lynel shield     0.0     62.0\n",
       "97            royal shield     0.0     55.0\n",
       "..                     ...     ...      ...\n",
       "149    spiked moblin spear     9.0      0.0\n",
       "55   scimitar of the seven    32.0      0.0\n",
       "173       serpentine spear    12.0      0.0\n",
       "156            shock arrow     0.0      0.0\n",
       "179             zora sword    15.0      0.0\n",
       "\n",
       "[185 rows x 3 columns]"
      ]
     },
     "execution_count": 63,
     "metadata": {},
     "output_type": "execute_result"
    }
   ],
   "source": [
    "# Bring equipment table\n",
    "equipment_df = equipment_df.fillna(0).sort_values(by=\"defense\", ascending=False)\n",
    "equipment_df"
   ]
  },
  {
   "cell_type": "code",
   "execution_count": 64,
   "metadata": {},
   "outputs": [],
   "source": [
    "# create Defense Df for barchart\n",
    "# set variables to hols name and defense\n",
    "equipment = equipment_df[\"name\"]\n",
    "#convert floats to ints\n",
    "defense = equipment_df[\"defense\"].astype(int)\n",
    "defense_bar_df = pd.DataFrame({\"Equipment\":equipment, \"Defense\":defense})\n",
    "defense_bar_df = defense_bar_df[defense_bar_df['Defense'] !=0]\n",
    "defense_bar_df = defense_bar_df.set_index(\"Equipment\")"
   ]
  },
  {
   "cell_type": "code",
   "execution_count": 65,
   "metadata": {
    "scrolled": false
   },
   "outputs": [
    {
     "name": "stdout",
     "output_type": "stream",
     "text": [
      "the shiled with the best defense is the Hylian Shield with 90 defense\n"
     ]
    },
    {
     "data": {
      "image/png": "[encoded data removed]",
      "text/plain": [
       "<Figure size 720x432 with 1 Axes>"
      ]
     },
     "metadata": {
      "needs_background": "light"
     },
     "output_type": "display_data"
    }
   ],
   "source": [
    "# plot bar chart from DataFrame\n",
    "fig, ax = plt.subplots()\n",
    "defense_bar_df.plot(kind=\"bar\", figsize=(10,6), ax=ax, \n",
    "                  title=\"What is the Best Defense Equipment\",\n",
    "                  xlabel=\"Equipment\",\n",
    "                  ylabel=\"Defense\");\n",
    "fig.tight_layout();\n",
    "plt.savefig(\"../BotW/images/defense_bar.png\")\n",
    "print(f\"the shiled with the best defense is the Hylian Shield with {int(equipment_df['defense'].max())} defense\")"
   ]
  },
  {
   "cell_type": "markdown",
   "metadata": {},
   "source": [
    "## Let's armor up!"
   ]
  },
  {
   "cell_type": "code",
   "execution_count": 66,
   "metadata": {
    "scrolled": true
   },
   "outputs": [
    {
     "data": {
      "text/html": [
       "<div>\n",
       "<style scoped>\n",
       "    .dataframe tbody tr th:only-of-type {\n",
       "        vertical-align: middle;\n",
       "    }\n",
       "\n",
       "    .dataframe tbody tr th {\n",
       "        vertical-align: top;\n",
       "    }\n",
       "\n",
       "    .dataframe thead th {\n",
       "        text-align: right;\n",
       "    }\n",
       "</style>\n",
       "<table border=\"1\" class=\"dataframe\">\n",
       "  <thead>\n",
       "    <tr style=\"text-align: right;\">\n",
       "      <th></th>\n",
       "      <th>name</th>\n",
       "      <th>class</th>\n",
       "      <th>subclass</th>\n",
       "      <th>tags</th>\n",
       "      <th>durability</th>\n",
       "      <th>strength</th>\n",
       "      <th>range</th>\n",
       "      <th>arrows</th>\n",
       "      <th>defense</th>\n",
       "      <th>defense_upgrade_lvl1</th>\n",
       "      <th>...</th>\n",
       "      <th>description</th>\n",
       "      <th>selling_price</th>\n",
       "      <th>bonus_set</th>\n",
       "      <th>upgrade_1</th>\n",
       "      <th>upgrade_2</th>\n",
       "      <th>upgrade_3</th>\n",
       "      <th>upgrade_4</th>\n",
       "      <th>armor_upgrade</th>\n",
       "      <th>where_to_find</th>\n",
       "      <th>notes</th>\n",
       "    </tr>\n",
       "  </thead>\n",
       "  <tbody>\n",
       "    <tr>\n",
       "      <th>0</th>\n",
       "      <td>Ancient Short Sword</td>\n",
       "      <td>Weapon</td>\n",
       "      <td>Light</td>\n",
       "      <td>NaN</td>\n",
       "      <td>54.0</td>\n",
       "      <td>40.0</td>\n",
       "      <td>NaN</td>\n",
       "      <td>NaN</td>\n",
       "      <td>NaN</td>\n",
       "      <td>NaN</td>\n",
       "      <td>...</td>\n",
       "      <td>The blade of this sword was made using an anci...</td>\n",
       "      <td>NaN</td>\n",
       "      <td>NaN</td>\n",
       "      <td>NaN</td>\n",
       "      <td>NaN</td>\n",
       "      <td>NaN</td>\n",
       "      <td>NaN</td>\n",
       "      <td>NaN</td>\n",
       "      <td>NaN</td>\n",
       "      <td>NaN</td>\n",
       "    </tr>\n",
       "    <tr>\n",
       "      <th>1</th>\n",
       "      <td>Blizzard Rod</td>\n",
       "      <td>Weapon</td>\n",
       "      <td>Light</td>\n",
       "      <td>NaN</td>\n",
       "      <td>32.0</td>\n",
       "      <td>10.0</td>\n",
       "      <td>NaN</td>\n",
       "      <td>NaN</td>\n",
       "      <td>NaN</td>\n",
       "      <td>NaN</td>\n",
       "      <td>...</td>\n",
       "      <td>A magical rod that can cast extreme cold in a ...</td>\n",
       "      <td>NaN</td>\n",
       "      <td>NaN</td>\n",
       "      <td>NaN</td>\n",
       "      <td>NaN</td>\n",
       "      <td>NaN</td>\n",
       "      <td>NaN</td>\n",
       "      <td>NaN</td>\n",
       "      <td>NaN</td>\n",
       "      <td>NaN</td>\n",
       "    </tr>\n",
       "    <tr>\n",
       "      <th>2</th>\n",
       "      <td>Boko Club</td>\n",
       "      <td>Weapon</td>\n",
       "      <td>Light</td>\n",
       "      <td>NaN</td>\n",
       "      <td>8.0</td>\n",
       "      <td>4.0</td>\n",
       "      <td>NaN</td>\n",
       "      <td>NaN</td>\n",
       "      <td>NaN</td>\n",
       "      <td>NaN</td>\n",
       "      <td>...</td>\n",
       "      <td>A crude Bokoblin club made to clobber small pr...</td>\n",
       "      <td>NaN</td>\n",
       "      <td>NaN</td>\n",
       "      <td>NaN</td>\n",
       "      <td>NaN</td>\n",
       "      <td>NaN</td>\n",
       "      <td>NaN</td>\n",
       "      <td>NaN</td>\n",
       "      <td>NaN</td>\n",
       "      <td>NaN</td>\n",
       "    </tr>\n",
       "    <tr>\n",
       "      <th>3</th>\n",
       "      <td>Bokoblin Arm</td>\n",
       "      <td>Weapon</td>\n",
       "      <td>Light</td>\n",
       "      <td>NaN</td>\n",
       "      <td>5.0</td>\n",
       "      <td>5.0</td>\n",
       "      <td>NaN</td>\n",
       "      <td>NaN</td>\n",
       "      <td>NaN</td>\n",
       "      <td>NaN</td>\n",
       "      <td>...</td>\n",
       "      <td>A skeletal arm that keeps moving even after it...</td>\n",
       "      <td>NaN</td>\n",
       "      <td>NaN</td>\n",
       "      <td>NaN</td>\n",
       "      <td>NaN</td>\n",
       "      <td>NaN</td>\n",
       "      <td>NaN</td>\n",
       "      <td>NaN</td>\n",
       "      <td>NaN</td>\n",
       "      <td>NaN</td>\n",
       "    </tr>\n",
       "    <tr>\n",
       "      <th>4</th>\n",
       "      <td>Boomerang</td>\n",
       "      <td>Weapon</td>\n",
       "      <td>Light</td>\n",
       "      <td>NaN</td>\n",
       "      <td>18.0</td>\n",
       "      <td>8.0</td>\n",
       "      <td>NaN</td>\n",
       "      <td>NaN</td>\n",
       "      <td>NaN</td>\n",
       "      <td>NaN</td>\n",
       "      <td>...</td>\n",
       "      <td>This throwing weapon was originally used by th...</td>\n",
       "      <td>NaN</td>\n",
       "      <td>NaN</td>\n",
       "      <td>NaN</td>\n",
       "      <td>NaN</td>\n",
       "      <td>NaN</td>\n",
       "      <td>NaN</td>\n",
       "      <td>NaN</td>\n",
       "      <td>NaN</td>\n",
       "      <td>NaN</td>\n",
       "    </tr>\n",
       "  </tbody>\n",
       "</table>\n",
       "<p>5 rows × 24 columns</p>\n",
       "</div>"
      ],
      "text/plain": [
       "                  name   class subclass tags  durability  strength  range  \\\n",
       "0  Ancient Short Sword  Weapon    Light  NaN        54.0      40.0    NaN   \n",
       "1         Blizzard Rod  Weapon    Light  NaN        32.0      10.0    NaN   \n",
       "2            Boko Club  Weapon    Light  NaN         8.0       4.0    NaN   \n",
       "3         Bokoblin Arm  Weapon    Light  NaN         5.0       5.0    NaN   \n",
       "4            Boomerang  Weapon    Light  NaN        18.0       8.0    NaN   \n",
       "\n",
       "   arrows  defense  defense_upgrade_lvl1  ...  \\\n",
       "0     NaN      NaN                   NaN  ...   \n",
       "1     NaN      NaN                   NaN  ...   \n",
       "2     NaN      NaN                   NaN  ...   \n",
       "3     NaN      NaN                   NaN  ...   \n",
       "4     NaN      NaN                   NaN  ...   \n",
       "\n",
       "                                         description  selling_price  \\\n",
       "0  The blade of this sword was made using an anci...            NaN   \n",
       "1  A magical rod that can cast extreme cold in a ...            NaN   \n",
       "2  A crude Bokoblin club made to clobber small pr...            NaN   \n",
       "3  A skeletal arm that keeps moving even after it...            NaN   \n",
       "4  This throwing weapon was originally used by th...            NaN   \n",
       "\n",
       "   bonus_set upgrade_1 upgrade_2  upgrade_3 upgrade_4 armor_upgrade  \\\n",
       "0        NaN       NaN       NaN        NaN       NaN           NaN   \n",
       "1        NaN       NaN       NaN        NaN       NaN           NaN   \n",
       "2        NaN       NaN       NaN        NaN       NaN           NaN   \n",
       "3        NaN       NaN       NaN        NaN       NaN           NaN   \n",
       "4        NaN       NaN       NaN        NaN       NaN           NaN   \n",
       "\n",
       "  where_to_find notes  \n",
       "0           NaN   NaN  \n",
       "1           NaN   NaN  \n",
       "2           NaN   NaN  \n",
       "3           NaN   NaN  \n",
       "4           NaN   NaN  \n",
       "\n",
       "[5 rows x 24 columns]"
      ]
     },
     "execution_count": 66,
     "metadata": {},
     "output_type": "execute_result"
    }
   ],
   "source": [
    "stuff = \"Stuff-Grid view.csv\"\n",
    "stuff_file = pd.read_csv(stuff)\n",
    "stuff_df = pd.DataFrame(stuff_file)\n",
    "stuff_df.head()"
   ]
  },
  {
   "cell_type": "code",
   "execution_count": 67,
   "metadata": {},
   "outputs": [],
   "source": [
    "# Remove unecessary columns\n",
    "stuff_df = stuff_df.drop(columns=[\"tags\", \"durability\", \"strength\", \"range\",\n",
    "                    \"arrows\", \"description\", \"selling_price\",\"where_to_find\",\"upgrade_1\",\"upgrade_2\",\"upgrade_3\", \n",
    "                    \"upgrade_4\",\"armor_upgrade\",\n",
    "                    \"where_to_find\",\"notes\"])\n",
    "# stuff_df"
   ]
  },
  {
   "cell_type": "code",
   "execution_count": 68,
   "metadata": {},
   "outputs": [],
   "source": [
    "armor_df = pd.DataFrame(stuff_df.loc[stuff_df[\"class\"] == \"Armor\", :])"
   ]
  },
  {
   "cell_type": "code",
   "execution_count": 69,
   "metadata": {},
   "outputs": [],
   "source": [
    "# Fills NaN's with 0 and Nones\n",
    "armor_df['defense_upgrade_lvl4'] = armor_df['defense_upgrade_lvl4'].fillna(0)\n",
    "armor_df[['bonus','bonus_set']] = armor_df[['bonus','bonus_set']].fillna(\"None\")\n",
    "armor_df = armor_df.set_index([\"name\"])"
   ]
  },
  {
   "cell_type": "markdown",
   "metadata": {},
   "source": [
    "# CREATE TABLE FOCUSIN ON BONUS SETS"
   ]
  },
  {
   "cell_type": "code",
   "execution_count": 70,
   "metadata": {},
   "outputs": [],
   "source": [
    "bonus_set_df = pd.DataFrame(armor_df.reset_index())"
   ]
  },
  {
   "cell_type": "code",
   "execution_count": 71,
   "metadata": {
    "scrolled": true
   },
   "outputs": [],
   "source": [
    "bonus_set_df = bonus_set_df.drop(columns=[\"class\",\"bonus\"])"
   ]
  },
  {
   "cell_type": "code",
   "execution_count": 72,
   "metadata": {},
   "outputs": [],
   "source": [
    "# bonus_set_df.set_index(\"bonus_set\")\n",
    "bonus_set_df = bonus_set_df.sort_values(by=\"bonus_set\")"
   ]
  },
  {
   "cell_type": "code",
   "execution_count": 73,
   "metadata": {},
   "outputs": [],
   "source": [
    "bonus_set_df = bonus_set_df.groupby(\"bonus_set\").sum()\n",
    "bonus_set_df = bonus_set_df.drop(index=\"None\")"
   ]
  },
  {
   "cell_type": "code",
   "execution_count": 74,
   "metadata": {},
   "outputs": [],
   "source": [
    "bonus_set_df = bonus_set_df.sort_values(by=\"defense_upgrade_lvl4\", ascending=False)"
   ]
  },
  {
   "cell_type": "code",
   "execution_count": 75,
   "metadata": {},
   "outputs": [
    {
     "data": {
      "text/html": [
       "<div>\n",
       "<style scoped>\n",
       "    .dataframe tbody tr th:only-of-type {\n",
       "        vertical-align: middle;\n",
       "    }\n",
       "\n",
       "    .dataframe tbody tr th {\n",
       "        vertical-align: top;\n",
       "    }\n",
       "\n",
       "    .dataframe thead th {\n",
       "        text-align: right;\n",
       "    }\n",
       "</style>\n",
       "<table border=\"1\" class=\"dataframe\">\n",
       "  <thead>\n",
       "    <tr style=\"text-align: right;\">\n",
       "      <th></th>\n",
       "      <th>defense</th>\n",
       "      <th>defense_upgrade_lvl1</th>\n",
       "      <th>defense_upgrade_lvl2</th>\n",
       "      <th>defense_upgrade_lvl3</th>\n",
       "      <th>defense_upgrade_lvl4</th>\n",
       "    </tr>\n",
       "    <tr>\n",
       "      <th>bonus_set</th>\n",
       "      <th></th>\n",
       "      <th></th>\n",
       "      <th></th>\n",
       "      <th></th>\n",
       "      <th></th>\n",
       "    </tr>\n",
       "  </thead>\n",
       "  <tbody>\n",
       "    <tr>\n",
       "      <th>Master Sword Beam</th>\n",
       "      <td>57.0</td>\n",
       "      <td>96.0</td>\n",
       "      <td>156.0</td>\n",
       "      <td>234.0</td>\n",
       "      <td>384.0</td>\n",
       "    </tr>\n",
       "    <tr>\n",
       "      <th>Charge Attack Stamina</th>\n",
       "      <td>18.0</td>\n",
       "      <td>27.0</td>\n",
       "      <td>48.0</td>\n",
       "      <td>72.0</td>\n",
       "      <td>120.0</td>\n",
       "    </tr>\n",
       "    <tr>\n",
       "      <th>Ancient Proficiency</th>\n",
       "      <td>12.0</td>\n",
       "      <td>21.0</td>\n",
       "      <td>36.0</td>\n",
       "      <td>54.0</td>\n",
       "      <td>84.0</td>\n",
       "    </tr>\n",
       "    <tr>\n",
       "      <th>Climb Stamina</th>\n",
       "      <td>9.0</td>\n",
       "      <td>15.0</td>\n",
       "      <td>24.0</td>\n",
       "      <td>36.0</td>\n",
       "      <td>60.0</td>\n",
       "    </tr>\n",
       "    <tr>\n",
       "      <th>Disguise and Bone Attack</th>\n",
       "      <td>9.0</td>\n",
       "      <td>15.0</td>\n",
       "      <td>24.0</td>\n",
       "      <td>36.0</td>\n",
       "      <td>60.0</td>\n",
       "    </tr>\n",
       "    <tr>\n",
       "      <th>Fireproof</th>\n",
       "      <td>9.0</td>\n",
       "      <td>15.0</td>\n",
       "      <td>24.0</td>\n",
       "      <td>36.0</td>\n",
       "      <td>60.0</td>\n",
       "    </tr>\n",
       "    <tr>\n",
       "      <th>Shock Resist</th>\n",
       "      <td>9.0</td>\n",
       "      <td>15.0</td>\n",
       "      <td>24.0</td>\n",
       "      <td>36.0</td>\n",
       "      <td>60.0</td>\n",
       "    </tr>\n",
       "    <tr>\n",
       "      <th>Swim Dash Stamina</th>\n",
       "      <td>9.0</td>\n",
       "      <td>15.0</td>\n",
       "      <td>24.0</td>\n",
       "      <td>36.0</td>\n",
       "      <td>60.0</td>\n",
       "    </tr>\n",
       "    <tr>\n",
       "      <th>Unfreezable</th>\n",
       "      <td>9.0</td>\n",
       "      <td>15.0</td>\n",
       "      <td>24.0</td>\n",
       "      <td>36.0</td>\n",
       "      <td>60.0</td>\n",
       "    </tr>\n",
       "    <tr>\n",
       "      <th>Unshockable</th>\n",
       "      <td>9.0</td>\n",
       "      <td>15.0</td>\n",
       "      <td>24.0</td>\n",
       "      <td>36.0</td>\n",
       "      <td>60.0</td>\n",
       "    </tr>\n",
       "    <tr>\n",
       "      <th>Night Speed</th>\n",
       "      <td>13.0</td>\n",
       "      <td>8.0</td>\n",
       "      <td>12.0</td>\n",
       "      <td>18.0</td>\n",
       "      <td>32.0</td>\n",
       "    </tr>\n",
       "    <tr>\n",
       "      <th>Heat Resist</th>\n",
       "      <td>5.0</td>\n",
       "      <td>0.0</td>\n",
       "      <td>0.0</td>\n",
       "      <td>0.0</td>\n",
       "      <td>0.0</td>\n",
       "    </tr>\n",
       "  </tbody>\n",
       "</table>\n",
       "</div>"
      ],
      "text/plain": [
       "                          defense  defense_upgrade_lvl1  defense_upgrade_lvl2  \\\n",
       "bonus_set                                                                       \n",
       "Master Sword Beam            57.0                  96.0                 156.0   \n",
       "Charge Attack Stamina        18.0                  27.0                  48.0   \n",
       "Ancient Proficiency          12.0                  21.0                  36.0   \n",
       "Climb Stamina                 9.0                  15.0                  24.0   \n",
       "Disguise and Bone Attack      9.0                  15.0                  24.0   \n",
       "Fireproof                     9.0                  15.0                  24.0   \n",
       "Shock Resist                  9.0                  15.0                  24.0   \n",
       "Swim Dash Stamina             9.0                  15.0                  24.0   \n",
       "Unfreezable                   9.0                  15.0                  24.0   \n",
       "Unshockable                   9.0                  15.0                  24.0   \n",
       "Night Speed                  13.0                   8.0                  12.0   \n",
       "Heat Resist                   5.0                   0.0                   0.0   \n",
       "\n",
       "                          defense_upgrade_lvl3  defense_upgrade_lvl4  \n",
       "bonus_set                                                             \n",
       "Master Sword Beam                        234.0                 384.0  \n",
       "Charge Attack Stamina                     72.0                 120.0  \n",
       "Ancient Proficiency                       54.0                  84.0  \n",
       "Climb Stamina                             36.0                  60.0  \n",
       "Disguise and Bone Attack                  36.0                  60.0  \n",
       "Fireproof                                 36.0                  60.0  \n",
       "Shock Resist                              36.0                  60.0  \n",
       "Swim Dash Stamina                         36.0                  60.0  \n",
       "Unfreezable                               36.0                  60.0  \n",
       "Unshockable                               36.0                  60.0  \n",
       "Night Speed                               18.0                  32.0  \n",
       "Heat Resist                                0.0                   0.0  "
      ]
     },
     "execution_count": 75,
     "metadata": {},
     "output_type": "execute_result"
    }
   ],
   "source": [
    "bonus_set_df"
   ]
  },
  {
   "cell_type": "code",
   "execution_count": 76,
   "metadata": {},
   "outputs": [
    {
     "data": {
      "image/png": "[encoded data removed]",
      "text/plain": [
       "<Figure size 1152x720 with 1 Axes>"
      ]
     },
     "metadata": {
      "needs_background": "light"
     },
     "output_type": "display_data"
    }
   ],
   "source": [
    "xticks= bonus_set_df.index.values\n",
    "fig, ax =  plt.subplots()\n",
    "bonus_set_df.plot(kind=\"area\", ax=ax, figsize=(16,10));\n",
    "ax.set(ylabel=\"Total Defense\", title=\"Total Defense based on Armor Set Bonus\");\n",
    "fig.tight_layout();\n",
    "plt.savefig(\"../BotW/images/armor_set_bonus.png\")"
   ]
  },
  {
   "cell_type": "code",
   "execution_count": null,
   "metadata": {},
   "outputs": [],
   "source": []
  }
 ],
 "metadata": {
  "kernelspec": {
   "display_name": "Python 3",
   "language": "python",
   "name": "python3"
  },
  "language_info": {
   "codemirror_mode": {
    "name": "ipython",
    "version": 3
   },
   "file_extension": ".py",
   "mimetype": "text/x-python",
   "name": "python",
   "nbconvert_exporter": "python",
   "pygments_lexer": "ipython3",
   "version": "3.8.5"
  }
 },
 "nbformat": 4,
 "nbformat_minor": 4
}
